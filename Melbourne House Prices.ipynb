{
 "cells": [
  {
   "cell_type": "code",
   "execution_count": 1,
   "metadata": {},
   "outputs": [
    {
     "name": "stderr",
     "output_type": "stream",
     "text": [
      "C:\\Users\\Andrew\\Anaconda3\\lib\\site-packages\\sklearn\\cross_validation.py:41: DeprecationWarning: This module was deprecated in version 0.18 in favor of the model_selection module into which all the refactored classes and functions are moved. Also note that the interface of the new CV iterators are different from that of this module. This module will be removed in 0.20.\n",
      "  \"This module will be removed in 0.20.\", DeprecationWarning)\n",
      "C:\\Users\\Andrew\\Anaconda3\\lib\\site-packages\\sklearn\\ensemble\\weight_boosting.py:29: DeprecationWarning: numpy.core.umath_tests is an internal NumPy module and should not be imported. It will be removed in a future NumPy release.\n",
      "  from numpy.core.umath_tests import inner1d\n"
     ]
    }
   ],
   "source": [
    "import pandas as pd\n",
    "import matplotlib.pyplot as plt\n",
    "import numpy as np\n",
    "import seaborn as sns\n",
    "import os\n",
    "from sklearn import metrics\n",
    "from pandas.api.types import is_string_dtype\n",
    "%matplotlib inline\n",
    "from sklearn.neighbors import KNeighborsRegressor\n",
    "from sklearn.preprocessing import LabelEncoder\n",
    "from sklearn.preprocessing import StandardScaler\n",
    "from sklearn.cross_validation import train_test_split\n",
    "from sklearn.linear_model import LinearRegression\n",
    "from sklearn.metrics import mean_squared_error, r2_score, mean_absolute_error\n",
    "from sklearn.ensemble import RandomForestRegressor, GradientBoostingRegressor"
   ]
  },
  {
   "cell_type": "code",
   "execution_count": 2,
   "metadata": {},
   "outputs": [
    {
     "data": {
      "text/plain": [
       "'C:\\\\Users\\\\Andrew'"
      ]
     },
     "execution_count": 2,
     "metadata": {},
     "output_type": "execute_result"
    }
   ],
   "source": [
    "os.getcwd()"
   ]
  },
  {
   "cell_type": "code",
   "execution_count": 3,
   "metadata": {},
   "outputs": [],
   "source": [
    "os.chdir('C://Users//Andrew/Desktop/')"
   ]
  },
  {
   "cell_type": "code",
   "execution_count": 4,
   "metadata": {},
   "outputs": [],
   "source": [
    "df = pd.read_csv('MELBOURNE_HOUSE_PRICES_LESS.csv')"
   ]
  },
  {
   "cell_type": "code",
   "execution_count": 5,
   "metadata": {},
   "outputs": [
    {
     "data": {
      "text/html": [
       "<div>\n",
       "<style scoped>\n",
       "    .dataframe tbody tr th:only-of-type {\n",
       "        vertical-align: middle;\n",
       "    }\n",
       "\n",
       "    .dataframe tbody tr th {\n",
       "        vertical-align: top;\n",
       "    }\n",
       "\n",
       "    .dataframe thead th {\n",
       "        text-align: right;\n",
       "    }\n",
       "</style>\n",
       "<table border=\"1\" class=\"dataframe\">\n",
       "  <thead>\n",
       "    <tr style=\"text-align: right;\">\n",
       "      <th></th>\n",
       "      <th>Suburb</th>\n",
       "      <th>Address</th>\n",
       "      <th>Rooms</th>\n",
       "      <th>Type</th>\n",
       "      <th>Price</th>\n",
       "      <th>Method</th>\n",
       "      <th>SellerG</th>\n",
       "      <th>Date</th>\n",
       "      <th>Postcode</th>\n",
       "      <th>Regionname</th>\n",
       "      <th>Propertycount</th>\n",
       "      <th>Distance</th>\n",
       "      <th>CouncilArea</th>\n",
       "    </tr>\n",
       "  </thead>\n",
       "  <tbody>\n",
       "    <tr>\n",
       "      <th>0</th>\n",
       "      <td>Abbotsford</td>\n",
       "      <td>49 Lithgow St</td>\n",
       "      <td>3</td>\n",
       "      <td>h</td>\n",
       "      <td>1490000.0</td>\n",
       "      <td>S</td>\n",
       "      <td>Jellis</td>\n",
       "      <td>1/04/2017</td>\n",
       "      <td>3067</td>\n",
       "      <td>Northern Metropolitan</td>\n",
       "      <td>4019</td>\n",
       "      <td>3.0</td>\n",
       "      <td>Yarra City Council</td>\n",
       "    </tr>\n",
       "    <tr>\n",
       "      <th>1</th>\n",
       "      <td>Abbotsford</td>\n",
       "      <td>59A Turner St</td>\n",
       "      <td>3</td>\n",
       "      <td>h</td>\n",
       "      <td>1220000.0</td>\n",
       "      <td>S</td>\n",
       "      <td>Marshall</td>\n",
       "      <td>1/04/2017</td>\n",
       "      <td>3067</td>\n",
       "      <td>Northern Metropolitan</td>\n",
       "      <td>4019</td>\n",
       "      <td>3.0</td>\n",
       "      <td>Yarra City Council</td>\n",
       "    </tr>\n",
       "    <tr>\n",
       "      <th>2</th>\n",
       "      <td>Abbotsford</td>\n",
       "      <td>119B Yarra St</td>\n",
       "      <td>3</td>\n",
       "      <td>h</td>\n",
       "      <td>1420000.0</td>\n",
       "      <td>S</td>\n",
       "      <td>Nelson</td>\n",
       "      <td>1/04/2017</td>\n",
       "      <td>3067</td>\n",
       "      <td>Northern Metropolitan</td>\n",
       "      <td>4019</td>\n",
       "      <td>3.0</td>\n",
       "      <td>Yarra City Council</td>\n",
       "    </tr>\n",
       "    <tr>\n",
       "      <th>3</th>\n",
       "      <td>Aberfeldie</td>\n",
       "      <td>68 Vida St</td>\n",
       "      <td>3</td>\n",
       "      <td>h</td>\n",
       "      <td>1515000.0</td>\n",
       "      <td>S</td>\n",
       "      <td>Barry</td>\n",
       "      <td>1/04/2017</td>\n",
       "      <td>3040</td>\n",
       "      <td>Western Metropolitan</td>\n",
       "      <td>1543</td>\n",
       "      <td>7.5</td>\n",
       "      <td>Moonee Valley City Council</td>\n",
       "    </tr>\n",
       "    <tr>\n",
       "      <th>4</th>\n",
       "      <td>Airport West</td>\n",
       "      <td>92 Clydesdale Rd</td>\n",
       "      <td>2</td>\n",
       "      <td>h</td>\n",
       "      <td>670000.0</td>\n",
       "      <td>S</td>\n",
       "      <td>Nelson</td>\n",
       "      <td>1/04/2017</td>\n",
       "      <td>3042</td>\n",
       "      <td>Western Metropolitan</td>\n",
       "      <td>3464</td>\n",
       "      <td>10.4</td>\n",
       "      <td>Moonee Valley City Council</td>\n",
       "    </tr>\n",
       "  </tbody>\n",
       "</table>\n",
       "</div>"
      ],
      "text/plain": [
       "         Suburb           Address  Rooms Type      Price Method   SellerG  \\\n",
       "0    Abbotsford     49 Lithgow St      3    h  1490000.0      S    Jellis   \n",
       "1    Abbotsford     59A Turner St      3    h  1220000.0      S  Marshall   \n",
       "2    Abbotsford     119B Yarra St      3    h  1420000.0      S    Nelson   \n",
       "3    Aberfeldie        68 Vida St      3    h  1515000.0      S     Barry   \n",
       "4  Airport West  92 Clydesdale Rd      2    h   670000.0      S    Nelson   \n",
       "\n",
       "        Date  Postcode             Regionname  Propertycount  Distance  \\\n",
       "0  1/04/2017      3067  Northern Metropolitan           4019       3.0   \n",
       "1  1/04/2017      3067  Northern Metropolitan           4019       3.0   \n",
       "2  1/04/2017      3067  Northern Metropolitan           4019       3.0   \n",
       "3  1/04/2017      3040   Western Metropolitan           1543       7.5   \n",
       "4  1/04/2017      3042   Western Metropolitan           3464      10.4   \n",
       "\n",
       "                  CouncilArea  \n",
       "0          Yarra City Council  \n",
       "1          Yarra City Council  \n",
       "2          Yarra City Council  \n",
       "3  Moonee Valley City Council  \n",
       "4  Moonee Valley City Council  "
      ]
     },
     "execution_count": 5,
     "metadata": {},
     "output_type": "execute_result"
    }
   ],
   "source": [
    "df.head()"
   ]
  },
  {
   "cell_type": "code",
   "execution_count": 6,
   "metadata": {},
   "outputs": [
    {
     "data": {
      "text/html": [
       "<div>\n",
       "<style scoped>\n",
       "    .dataframe tbody tr th:only-of-type {\n",
       "        vertical-align: middle;\n",
       "    }\n",
       "\n",
       "    .dataframe tbody tr th {\n",
       "        vertical-align: top;\n",
       "    }\n",
       "\n",
       "    .dataframe thead th {\n",
       "        text-align: right;\n",
       "    }\n",
       "</style>\n",
       "<table border=\"1\" class=\"dataframe\">\n",
       "  <thead>\n",
       "    <tr style=\"text-align: right;\">\n",
       "      <th></th>\n",
       "      <th>Suburb</th>\n",
       "      <th>Address</th>\n",
       "      <th>Rooms</th>\n",
       "      <th>Type</th>\n",
       "      <th>Price</th>\n",
       "      <th>Method</th>\n",
       "      <th>SellerG</th>\n",
       "      <th>Date</th>\n",
       "      <th>Postcode</th>\n",
       "      <th>Regionname</th>\n",
       "      <th>Propertycount</th>\n",
       "      <th>Distance</th>\n",
       "      <th>CouncilArea</th>\n",
       "    </tr>\n",
       "  </thead>\n",
       "  <tbody>\n",
       "    <tr>\n",
       "      <th>63018</th>\n",
       "      <td>Roxburgh Park</td>\n",
       "      <td>3 Carr Pl</td>\n",
       "      <td>3</td>\n",
       "      <td>h</td>\n",
       "      <td>566000.0</td>\n",
       "      <td>S</td>\n",
       "      <td>Raine</td>\n",
       "      <td>31/03/2018</td>\n",
       "      <td>3064</td>\n",
       "      <td>Northern Metropolitan</td>\n",
       "      <td>5833</td>\n",
       "      <td>20.6</td>\n",
       "      <td>Hume City Council</td>\n",
       "    </tr>\n",
       "    <tr>\n",
       "      <th>63019</th>\n",
       "      <td>Roxburgh Park</td>\n",
       "      <td>9 Parker Ct</td>\n",
       "      <td>3</td>\n",
       "      <td>h</td>\n",
       "      <td>500000.0</td>\n",
       "      <td>S</td>\n",
       "      <td>Raine</td>\n",
       "      <td>31/03/2018</td>\n",
       "      <td>3064</td>\n",
       "      <td>Northern Metropolitan</td>\n",
       "      <td>5833</td>\n",
       "      <td>20.6</td>\n",
       "      <td>Hume City Council</td>\n",
       "    </tr>\n",
       "    <tr>\n",
       "      <th>63020</th>\n",
       "      <td>Roxburgh Park</td>\n",
       "      <td>5 Parkinson Wy</td>\n",
       "      <td>3</td>\n",
       "      <td>h</td>\n",
       "      <td>545000.0</td>\n",
       "      <td>S</td>\n",
       "      <td>Raine</td>\n",
       "      <td>31/03/2018</td>\n",
       "      <td>3064</td>\n",
       "      <td>Northern Metropolitan</td>\n",
       "      <td>5833</td>\n",
       "      <td>20.6</td>\n",
       "      <td>Hume City Council</td>\n",
       "    </tr>\n",
       "    <tr>\n",
       "      <th>63021</th>\n",
       "      <td>Thomastown</td>\n",
       "      <td>3/1 Travers St</td>\n",
       "      <td>3</td>\n",
       "      <td>u</td>\n",
       "      <td>NaN</td>\n",
       "      <td>PI</td>\n",
       "      <td>Barry</td>\n",
       "      <td>31/03/2018</td>\n",
       "      <td>3074</td>\n",
       "      <td>Northern Metropolitan</td>\n",
       "      <td>7955</td>\n",
       "      <td>15.3</td>\n",
       "      <td>Whittlesea City Council</td>\n",
       "    </tr>\n",
       "    <tr>\n",
       "      <th>63022</th>\n",
       "      <td>Williams Landing</td>\n",
       "      <td>1 Diadem Wy</td>\n",
       "      <td>4</td>\n",
       "      <td>h</td>\n",
       "      <td>NaN</td>\n",
       "      <td>SP</td>\n",
       "      <td>Aussie</td>\n",
       "      <td>31/03/2018</td>\n",
       "      <td>3027</td>\n",
       "      <td>Western Metropolitan</td>\n",
       "      <td>1999</td>\n",
       "      <td>17.6</td>\n",
       "      <td>Wyndham City Council</td>\n",
       "    </tr>\n",
       "  </tbody>\n",
       "</table>\n",
       "</div>"
      ],
      "text/plain": [
       "                 Suburb         Address  Rooms Type     Price Method SellerG  \\\n",
       "63018     Roxburgh Park       3 Carr Pl      3    h  566000.0      S   Raine   \n",
       "63019     Roxburgh Park     9 Parker Ct      3    h  500000.0      S   Raine   \n",
       "63020     Roxburgh Park  5 Parkinson Wy      3    h  545000.0      S   Raine   \n",
       "63021        Thomastown  3/1 Travers St      3    u       NaN     PI   Barry   \n",
       "63022  Williams Landing     1 Diadem Wy      4    h       NaN     SP  Aussie   \n",
       "\n",
       "             Date  Postcode             Regionname  Propertycount  Distance  \\\n",
       "63018  31/03/2018      3064  Northern Metropolitan           5833      20.6   \n",
       "63019  31/03/2018      3064  Northern Metropolitan           5833      20.6   \n",
       "63020  31/03/2018      3064  Northern Metropolitan           5833      20.6   \n",
       "63021  31/03/2018      3074  Northern Metropolitan           7955      15.3   \n",
       "63022  31/03/2018      3027   Western Metropolitan           1999      17.6   \n",
       "\n",
       "                   CouncilArea  \n",
       "63018        Hume City Council  \n",
       "63019        Hume City Council  \n",
       "63020        Hume City Council  \n",
       "63021  Whittlesea City Council  \n",
       "63022     Wyndham City Council  "
      ]
     },
     "execution_count": 6,
     "metadata": {},
     "output_type": "execute_result"
    }
   ],
   "source": [
    "df.tail()"
   ]
  },
  {
   "cell_type": "code",
   "execution_count": 7,
   "metadata": {},
   "outputs": [],
   "source": [
    "df_copy = df.copy()"
   ]
  },
  {
   "cell_type": "code",
   "execution_count": 8,
   "metadata": {},
   "outputs": [
    {
     "data": {
      "text/plain": [
       "(63023, 13)"
      ]
     },
     "execution_count": 8,
     "metadata": {},
     "output_type": "execute_result"
    }
   ],
   "source": [
    "df.shape"
   ]
  },
  {
   "cell_type": "code",
   "execution_count": 9,
   "metadata": {},
   "outputs": [
    {
     "name": "stdout",
     "output_type": "stream",
     "text": [
      "<class 'pandas.core.frame.DataFrame'>\n",
      "RangeIndex: 63023 entries, 0 to 63022\n",
      "Data columns (total 13 columns):\n",
      "Suburb           63023 non-null object\n",
      "Address          63023 non-null object\n",
      "Rooms            63023 non-null int64\n",
      "Type             63023 non-null object\n",
      "Price            48433 non-null float64\n",
      "Method           63023 non-null object\n",
      "SellerG          63023 non-null object\n",
      "Date             63023 non-null object\n",
      "Postcode         63023 non-null int64\n",
      "Regionname       63023 non-null object\n",
      "Propertycount    63023 non-null int64\n",
      "Distance         63023 non-null float64\n",
      "CouncilArea      63023 non-null object\n",
      "dtypes: float64(2), int64(3), object(8)\n",
      "memory usage: 6.3+ MB\n"
     ]
    }
   ],
   "source": [
    "df.info()"
   ]
  },
  {
   "cell_type": "code",
   "execution_count": 10,
   "metadata": {},
   "outputs": [
    {
     "data": {
      "text/plain": [
       "Suburb            object\n",
       "Address           object\n",
       "Rooms              int64\n",
       "Type              object\n",
       "Price            float64\n",
       "Method            object\n",
       "SellerG           object\n",
       "Date              object\n",
       "Postcode           int64\n",
       "Regionname        object\n",
       "Propertycount      int64\n",
       "Distance         float64\n",
       "CouncilArea       object\n",
       "dtype: object"
      ]
     },
     "execution_count": 10,
     "metadata": {},
     "output_type": "execute_result"
    }
   ],
   "source": [
    "df.dtypes"
   ]
  },
  {
   "cell_type": "code",
   "execution_count": 11,
   "metadata": {},
   "outputs": [
    {
     "data": {
      "text/plain": [
       "Index(['Suburb', 'Address', 'Rooms', 'Type', 'Price', 'Method', 'SellerG',\n",
       "       'Date', 'Postcode', 'Regionname', 'Propertycount', 'Distance',\n",
       "       'CouncilArea'],\n",
       "      dtype='object')"
      ]
     },
     "execution_count": 11,
     "metadata": {},
     "output_type": "execute_result"
    }
   ],
   "source": [
    "df.columns"
   ]
  },
  {
   "cell_type": "code",
   "execution_count": 12,
   "metadata": {},
   "outputs": [],
   "source": [
    "location_column = ['Regionname', 'CouncilArea', 'Suburb', 'Propertycount', 'Address', 'Postcode','Distance']\n",
    "house_att_column = ['Type', 'Rooms', 'Method', 'Date']\n",
    "seller = ['SellerG']\n",
    "price = ['Price']"
   ]
  },
  {
   "cell_type": "code",
   "execution_count": 13,
   "metadata": {},
   "outputs": [],
   "source": [
    "new_col_order = location_column + house_att_column + seller + price"
   ]
  },
  {
   "cell_type": "code",
   "execution_count": 14,
   "metadata": {},
   "outputs": [
    {
     "data": {
      "text/plain": [
       "True"
      ]
     },
     "execution_count": 14,
     "metadata": {},
     "output_type": "execute_result"
    }
   ],
   "source": [
    "set(df.columns) == set(new_col_order)"
   ]
  },
  {
   "cell_type": "code",
   "execution_count": 15,
   "metadata": {},
   "outputs": [
    {
     "data": {
      "text/html": [
       "<div>\n",
       "<style scoped>\n",
       "    .dataframe tbody tr th:only-of-type {\n",
       "        vertical-align: middle;\n",
       "    }\n",
       "\n",
       "    .dataframe tbody tr th {\n",
       "        vertical-align: top;\n",
       "    }\n",
       "\n",
       "    .dataframe thead th {\n",
       "        text-align: right;\n",
       "    }\n",
       "</style>\n",
       "<table border=\"1\" class=\"dataframe\">\n",
       "  <thead>\n",
       "    <tr style=\"text-align: right;\">\n",
       "      <th></th>\n",
       "      <th>Regionname</th>\n",
       "      <th>CouncilArea</th>\n",
       "      <th>Suburb</th>\n",
       "      <th>Propertycount</th>\n",
       "      <th>Address</th>\n",
       "      <th>Postcode</th>\n",
       "      <th>Distance</th>\n",
       "      <th>Type</th>\n",
       "      <th>Rooms</th>\n",
       "      <th>Method</th>\n",
       "      <th>Date</th>\n",
       "      <th>SellerG</th>\n",
       "      <th>Price</th>\n",
       "    </tr>\n",
       "  </thead>\n",
       "  <tbody>\n",
       "    <tr>\n",
       "      <th>0</th>\n",
       "      <td>Northern Metropolitan</td>\n",
       "      <td>Yarra City Council</td>\n",
       "      <td>Abbotsford</td>\n",
       "      <td>4019</td>\n",
       "      <td>49 Lithgow St</td>\n",
       "      <td>3067</td>\n",
       "      <td>3.0</td>\n",
       "      <td>h</td>\n",
       "      <td>3</td>\n",
       "      <td>S</td>\n",
       "      <td>1/04/2017</td>\n",
       "      <td>Jellis</td>\n",
       "      <td>1490000.0</td>\n",
       "    </tr>\n",
       "    <tr>\n",
       "      <th>1</th>\n",
       "      <td>Northern Metropolitan</td>\n",
       "      <td>Yarra City Council</td>\n",
       "      <td>Abbotsford</td>\n",
       "      <td>4019</td>\n",
       "      <td>59A Turner St</td>\n",
       "      <td>3067</td>\n",
       "      <td>3.0</td>\n",
       "      <td>h</td>\n",
       "      <td>3</td>\n",
       "      <td>S</td>\n",
       "      <td>1/04/2017</td>\n",
       "      <td>Marshall</td>\n",
       "      <td>1220000.0</td>\n",
       "    </tr>\n",
       "    <tr>\n",
       "      <th>2</th>\n",
       "      <td>Northern Metropolitan</td>\n",
       "      <td>Yarra City Council</td>\n",
       "      <td>Abbotsford</td>\n",
       "      <td>4019</td>\n",
       "      <td>119B Yarra St</td>\n",
       "      <td>3067</td>\n",
       "      <td>3.0</td>\n",
       "      <td>h</td>\n",
       "      <td>3</td>\n",
       "      <td>S</td>\n",
       "      <td>1/04/2017</td>\n",
       "      <td>Nelson</td>\n",
       "      <td>1420000.0</td>\n",
       "    </tr>\n",
       "    <tr>\n",
       "      <th>3</th>\n",
       "      <td>Western Metropolitan</td>\n",
       "      <td>Moonee Valley City Council</td>\n",
       "      <td>Aberfeldie</td>\n",
       "      <td>1543</td>\n",
       "      <td>68 Vida St</td>\n",
       "      <td>3040</td>\n",
       "      <td>7.5</td>\n",
       "      <td>h</td>\n",
       "      <td>3</td>\n",
       "      <td>S</td>\n",
       "      <td>1/04/2017</td>\n",
       "      <td>Barry</td>\n",
       "      <td>1515000.0</td>\n",
       "    </tr>\n",
       "    <tr>\n",
       "      <th>4</th>\n",
       "      <td>Western Metropolitan</td>\n",
       "      <td>Moonee Valley City Council</td>\n",
       "      <td>Airport West</td>\n",
       "      <td>3464</td>\n",
       "      <td>92 Clydesdale Rd</td>\n",
       "      <td>3042</td>\n",
       "      <td>10.4</td>\n",
       "      <td>h</td>\n",
       "      <td>2</td>\n",
       "      <td>S</td>\n",
       "      <td>1/04/2017</td>\n",
       "      <td>Nelson</td>\n",
       "      <td>670000.0</td>\n",
       "    </tr>\n",
       "  </tbody>\n",
       "</table>\n",
       "</div>"
      ],
      "text/plain": [
       "              Regionname                 CouncilArea        Suburb  \\\n",
       "0  Northern Metropolitan          Yarra City Council    Abbotsford   \n",
       "1  Northern Metropolitan          Yarra City Council    Abbotsford   \n",
       "2  Northern Metropolitan          Yarra City Council    Abbotsford   \n",
       "3   Western Metropolitan  Moonee Valley City Council    Aberfeldie   \n",
       "4   Western Metropolitan  Moonee Valley City Council  Airport West   \n",
       "\n",
       "   Propertycount           Address  Postcode  Distance Type  Rooms Method  \\\n",
       "0           4019     49 Lithgow St      3067       3.0    h      3      S   \n",
       "1           4019     59A Turner St      3067       3.0    h      3      S   \n",
       "2           4019     119B Yarra St      3067       3.0    h      3      S   \n",
       "3           1543        68 Vida St      3040       7.5    h      3      S   \n",
       "4           3464  92 Clydesdale Rd      3042      10.4    h      2      S   \n",
       "\n",
       "        Date   SellerG      Price  \n",
       "0  1/04/2017    Jellis  1490000.0  \n",
       "1  1/04/2017  Marshall  1220000.0  \n",
       "2  1/04/2017    Nelson  1420000.0  \n",
       "3  1/04/2017     Barry  1515000.0  \n",
       "4  1/04/2017    Nelson   670000.0  "
      ]
     },
     "execution_count": 15,
     "metadata": {},
     "output_type": "execute_result"
    }
   ],
   "source": [
    "df2 = df[new_col_order]\n",
    "df2.head()"
   ]
  },
  {
   "cell_type": "markdown",
   "metadata": {},
   "source": [
    "### Exploratory Data Analysis "
   ]
  },
  {
   "cell_type": "code",
   "execution_count": 16,
   "metadata": {},
   "outputs": [
    {
     "data": {
      "text/html": [
       "<div>\n",
       "<style scoped>\n",
       "    .dataframe tbody tr th:only-of-type {\n",
       "        vertical-align: middle;\n",
       "    }\n",
       "\n",
       "    .dataframe tbody tr th {\n",
       "        vertical-align: top;\n",
       "    }\n",
       "\n",
       "    .dataframe thead th {\n",
       "        text-align: right;\n",
       "    }\n",
       "</style>\n",
       "<table border=\"1\" class=\"dataframe\">\n",
       "  <thead>\n",
       "    <tr style=\"text-align: right;\">\n",
       "      <th></th>\n",
       "      <th>count</th>\n",
       "      <th>mean</th>\n",
       "      <th>std</th>\n",
       "      <th>min</th>\n",
       "      <th>25%</th>\n",
       "      <th>50%</th>\n",
       "      <th>75%</th>\n",
       "      <th>max</th>\n",
       "    </tr>\n",
       "  </thead>\n",
       "  <tbody>\n",
       "    <tr>\n",
       "      <th>Rooms</th>\n",
       "      <td>63023.0</td>\n",
       "      <td>3.110595</td>\n",
       "      <td>0.957551</td>\n",
       "      <td>1.0</td>\n",
       "      <td>3.0</td>\n",
       "      <td>3.0</td>\n",
       "      <td>4.0</td>\n",
       "      <td>31.0</td>\n",
       "    </tr>\n",
       "    <tr>\n",
       "      <th>Price</th>\n",
       "      <td>48433.0</td>\n",
       "      <td>997898.241488</td>\n",
       "      <td>593498.919037</td>\n",
       "      <td>85000.0</td>\n",
       "      <td>620000.0</td>\n",
       "      <td>830000.0</td>\n",
       "      <td>1220000.0</td>\n",
       "      <td>11200000.0</td>\n",
       "    </tr>\n",
       "    <tr>\n",
       "      <th>Postcode</th>\n",
       "      <td>63023.0</td>\n",
       "      <td>3125.673897</td>\n",
       "      <td>125.626877</td>\n",
       "      <td>3000.0</td>\n",
       "      <td>3056.0</td>\n",
       "      <td>3107.0</td>\n",
       "      <td>3163.0</td>\n",
       "      <td>3980.0</td>\n",
       "    </tr>\n",
       "    <tr>\n",
       "      <th>Propertycount</th>\n",
       "      <td>63023.0</td>\n",
       "      <td>7617.728131</td>\n",
       "      <td>4424.423167</td>\n",
       "      <td>39.0</td>\n",
       "      <td>4380.0</td>\n",
       "      <td>6795.0</td>\n",
       "      <td>10412.0</td>\n",
       "      <td>21650.0</td>\n",
       "    </tr>\n",
       "    <tr>\n",
       "      <th>Distance</th>\n",
       "      <td>63023.0</td>\n",
       "      <td>12.684829</td>\n",
       "      <td>7.592015</td>\n",
       "      <td>0.0</td>\n",
       "      <td>7.0</td>\n",
       "      <td>11.4</td>\n",
       "      <td>16.7</td>\n",
       "      <td>64.1</td>\n",
       "    </tr>\n",
       "  </tbody>\n",
       "</table>\n",
       "</div>"
      ],
      "text/plain": [
       "                 count           mean            std      min       25%  \\\n",
       "Rooms          63023.0       3.110595       0.957551      1.0       3.0   \n",
       "Price          48433.0  997898.241488  593498.919037  85000.0  620000.0   \n",
       "Postcode       63023.0    3125.673897     125.626877   3000.0    3056.0   \n",
       "Propertycount  63023.0    7617.728131    4424.423167     39.0    4380.0   \n",
       "Distance       63023.0      12.684829       7.592015      0.0       7.0   \n",
       "\n",
       "                    50%        75%         max  \n",
       "Rooms               3.0        4.0        31.0  \n",
       "Price          830000.0  1220000.0  11200000.0  \n",
       "Postcode         3107.0     3163.0      3980.0  \n",
       "Propertycount    6795.0    10412.0     21650.0  \n",
       "Distance           11.4       16.7        64.1  "
      ]
     },
     "execution_count": 16,
     "metadata": {},
     "output_type": "execute_result"
    }
   ],
   "source": [
    "df.describe(include = [np.number]).T"
   ]
  },
  {
   "cell_type": "code",
   "execution_count": 17,
   "metadata": {},
   "outputs": [
    {
     "data": {
      "text/html": [
       "<div>\n",
       "<style scoped>\n",
       "    .dataframe tbody tr th:only-of-type {\n",
       "        vertical-align: middle;\n",
       "    }\n",
       "\n",
       "    .dataframe tbody tr th {\n",
       "        vertical-align: top;\n",
       "    }\n",
       "\n",
       "    .dataframe thead th {\n",
       "        text-align: right;\n",
       "    }\n",
       "</style>\n",
       "<table border=\"1\" class=\"dataframe\">\n",
       "  <thead>\n",
       "    <tr style=\"text-align: right;\">\n",
       "      <th></th>\n",
       "      <th>Propertycount</th>\n",
       "      <th>Postcode</th>\n",
       "      <th>Distance</th>\n",
       "      <th>Rooms</th>\n",
       "      <th>Price</th>\n",
       "    </tr>\n",
       "  </thead>\n",
       "  <tbody>\n",
       "    <tr>\n",
       "      <th>count</th>\n",
       "      <td>63023.000000</td>\n",
       "      <td>63023.000000</td>\n",
       "      <td>63023.000000</td>\n",
       "      <td>63023.000000</td>\n",
       "      <td>4.843300e+04</td>\n",
       "    </tr>\n",
       "    <tr>\n",
       "      <th>mean</th>\n",
       "      <td>7617.728131</td>\n",
       "      <td>3125.673897</td>\n",
       "      <td>12.684829</td>\n",
       "      <td>3.110595</td>\n",
       "      <td>9.978982e+05</td>\n",
       "    </tr>\n",
       "    <tr>\n",
       "      <th>std</th>\n",
       "      <td>4424.423167</td>\n",
       "      <td>125.626877</td>\n",
       "      <td>7.592015</td>\n",
       "      <td>0.957551</td>\n",
       "      <td>5.934989e+05</td>\n",
       "    </tr>\n",
       "    <tr>\n",
       "      <th>min</th>\n",
       "      <td>39.000000</td>\n",
       "      <td>3000.000000</td>\n",
       "      <td>0.000000</td>\n",
       "      <td>1.000000</td>\n",
       "      <td>8.500000e+04</td>\n",
       "    </tr>\n",
       "    <tr>\n",
       "      <th>1%</th>\n",
       "      <td>892.000000</td>\n",
       "      <td>3011.000000</td>\n",
       "      <td>1.600000</td>\n",
       "      <td>1.000000</td>\n",
       "      <td>3.120000e+05</td>\n",
       "    </tr>\n",
       "    <tr>\n",
       "      <th>30%</th>\n",
       "      <td>4794.000000</td>\n",
       "      <td>3064.000000</td>\n",
       "      <td>7.700000</td>\n",
       "      <td>3.000000</td>\n",
       "      <td>6.550000e+05</td>\n",
       "    </tr>\n",
       "    <tr>\n",
       "      <th>50%</th>\n",
       "      <td>6795.000000</td>\n",
       "      <td>3107.000000</td>\n",
       "      <td>11.400000</td>\n",
       "      <td>3.000000</td>\n",
       "      <td>8.300000e+05</td>\n",
       "    </tr>\n",
       "    <tr>\n",
       "      <th>99%</th>\n",
       "      <td>21650.000000</td>\n",
       "      <td>3756.000000</td>\n",
       "      <td>38.000000</td>\n",
       "      <td>5.000000</td>\n",
       "      <td>3.200000e+06</td>\n",
       "    </tr>\n",
       "    <tr>\n",
       "      <th>max</th>\n",
       "      <td>21650.000000</td>\n",
       "      <td>3980.000000</td>\n",
       "      <td>64.100000</td>\n",
       "      <td>31.000000</td>\n",
       "      <td>1.120000e+07</td>\n",
       "    </tr>\n",
       "  </tbody>\n",
       "</table>\n",
       "</div>"
      ],
      "text/plain": [
       "       Propertycount      Postcode      Distance         Rooms         Price\n",
       "count   63023.000000  63023.000000  63023.000000  63023.000000  4.843300e+04\n",
       "mean     7617.728131   3125.673897     12.684829      3.110595  9.978982e+05\n",
       "std      4424.423167    125.626877      7.592015      0.957551  5.934989e+05\n",
       "min        39.000000   3000.000000      0.000000      1.000000  8.500000e+04\n",
       "1%        892.000000   3011.000000      1.600000      1.000000  3.120000e+05\n",
       "30%      4794.000000   3064.000000      7.700000      3.000000  6.550000e+05\n",
       "50%      6795.000000   3107.000000     11.400000      3.000000  8.300000e+05\n",
       "99%     21650.000000   3756.000000     38.000000      5.000000  3.200000e+06\n",
       "max     21650.000000   3980.000000     64.100000     31.000000  1.120000e+07"
      ]
     },
     "execution_count": 17,
     "metadata": {},
     "output_type": "execute_result"
    }
   ],
   "source": [
    "df2.describe(percentiles= [.01, .3, .99])"
   ]
  },
  {
   "cell_type": "code",
   "execution_count": 18,
   "metadata": {},
   "outputs": [
    {
     "data": {
      "text/html": [
       "<div>\n",
       "<style scoped>\n",
       "    .dataframe tbody tr th:only-of-type {\n",
       "        vertical-align: middle;\n",
       "    }\n",
       "\n",
       "    .dataframe tbody tr th {\n",
       "        vertical-align: top;\n",
       "    }\n",
       "\n",
       "    .dataframe thead th {\n",
       "        text-align: right;\n",
       "    }\n",
       "</style>\n",
       "<table border=\"1\" class=\"dataframe\">\n",
       "  <thead>\n",
       "    <tr style=\"text-align: right;\">\n",
       "      <th></th>\n",
       "      <th>count</th>\n",
       "      <th>unique</th>\n",
       "      <th>top</th>\n",
       "      <th>freq</th>\n",
       "    </tr>\n",
       "  </thead>\n",
       "  <tbody>\n",
       "    <tr>\n",
       "      <th>Regionname</th>\n",
       "      <td>63023</td>\n",
       "      <td>8</td>\n",
       "      <td>Southern Metropolitan</td>\n",
       "      <td>17559</td>\n",
       "    </tr>\n",
       "    <tr>\n",
       "      <th>CouncilArea</th>\n",
       "      <td>63023</td>\n",
       "      <td>34</td>\n",
       "      <td>Boroondara City Council</td>\n",
       "      <td>5132</td>\n",
       "    </tr>\n",
       "    <tr>\n",
       "      <th>Suburb</th>\n",
       "      <td>63023</td>\n",
       "      <td>380</td>\n",
       "      <td>Reservoir</td>\n",
       "      <td>1241</td>\n",
       "    </tr>\n",
       "    <tr>\n",
       "      <th>Address</th>\n",
       "      <td>63023</td>\n",
       "      <td>57754</td>\n",
       "      <td>57 Bay Rd</td>\n",
       "      <td>7</td>\n",
       "    </tr>\n",
       "    <tr>\n",
       "      <th>Type</th>\n",
       "      <td>63023</td>\n",
       "      <td>3</td>\n",
       "      <td>h</td>\n",
       "      <td>45053</td>\n",
       "    </tr>\n",
       "    <tr>\n",
       "      <th>Method</th>\n",
       "      <td>63023</td>\n",
       "      <td>9</td>\n",
       "      <td>S</td>\n",
       "      <td>34063</td>\n",
       "    </tr>\n",
       "    <tr>\n",
       "      <th>Date</th>\n",
       "      <td>63023</td>\n",
       "      <td>112</td>\n",
       "      <td>24/03/2018</td>\n",
       "      <td>1144</td>\n",
       "    </tr>\n",
       "    <tr>\n",
       "      <th>SellerG</th>\n",
       "      <td>63023</td>\n",
       "      <td>476</td>\n",
       "      <td>Barry</td>\n",
       "      <td>6894</td>\n",
       "    </tr>\n",
       "  </tbody>\n",
       "</table>\n",
       "</div>"
      ],
      "text/plain": [
       "             count unique                      top   freq\n",
       "Regionname   63023      8    Southern Metropolitan  17559\n",
       "CouncilArea  63023     34  Boroondara City Council   5132\n",
       "Suburb       63023    380                Reservoir   1241\n",
       "Address      63023  57754                57 Bay Rd      7\n",
       "Type         63023      3                        h  45053\n",
       "Method       63023      9                        S  34063\n",
       "Date         63023    112               24/03/2018   1144\n",
       "SellerG      63023    476                    Barry   6894"
      ]
     },
     "execution_count": 18,
     "metadata": {},
     "output_type": "execute_result"
    }
   ],
   "source": [
    "df2.describe(include = [np.object, pd.Categorical]).T"
   ]
  },
  {
   "cell_type": "markdown",
   "metadata": {},
   "source": [
    "### Highest value properties sold with corresponding agent"
   ]
  },
  {
   "cell_type": "code",
   "execution_count": 19,
   "metadata": {},
   "outputs": [
    {
     "data": {
      "text/html": [
       "<div>\n",
       "<style scoped>\n",
       "    .dataframe tbody tr th:only-of-type {\n",
       "        vertical-align: middle;\n",
       "    }\n",
       "\n",
       "    .dataframe tbody tr th {\n",
       "        vertical-align: top;\n",
       "    }\n",
       "\n",
       "    .dataframe thead th {\n",
       "        text-align: right;\n",
       "    }\n",
       "</style>\n",
       "<table border=\"1\" class=\"dataframe\">\n",
       "  <thead>\n",
       "    <tr style=\"text-align: right;\">\n",
       "      <th></th>\n",
       "      <th>SellerG</th>\n",
       "      <th>Price</th>\n",
       "    </tr>\n",
       "  </thead>\n",
       "  <tbody>\n",
       "    <tr>\n",
       "      <th>0</th>\n",
       "      <td>Jellis</td>\n",
       "      <td>1490000.0</td>\n",
       "    </tr>\n",
       "    <tr>\n",
       "      <th>1</th>\n",
       "      <td>Marshall</td>\n",
       "      <td>1220000.0</td>\n",
       "    </tr>\n",
       "    <tr>\n",
       "      <th>2</th>\n",
       "      <td>Nelson</td>\n",
       "      <td>1420000.0</td>\n",
       "    </tr>\n",
       "    <tr>\n",
       "      <th>3</th>\n",
       "      <td>Barry</td>\n",
       "      <td>1515000.0</td>\n",
       "    </tr>\n",
       "    <tr>\n",
       "      <th>4</th>\n",
       "      <td>Nelson</td>\n",
       "      <td>670000.0</td>\n",
       "    </tr>\n",
       "  </tbody>\n",
       "</table>\n",
       "</div>"
      ],
      "text/plain": [
       "    SellerG      Price\n",
       "0    Jellis  1490000.0\n",
       "1  Marshall  1220000.0\n",
       "2    Nelson  1420000.0\n",
       "3     Barry  1515000.0\n",
       "4    Nelson   670000.0"
      ]
     },
     "execution_count": 19,
     "metadata": {},
     "output_type": "execute_result"
    }
   ],
   "source": [
    "Sellers = df2[['SellerG', 'Price']]\n",
    "Sellers.head()"
   ]
  },
  {
   "cell_type": "code",
   "execution_count": 20,
   "metadata": {},
   "outputs": [
    {
     "data": {
      "text/html": [
       "<div>\n",
       "<style scoped>\n",
       "    .dataframe tbody tr th:only-of-type {\n",
       "        vertical-align: middle;\n",
       "    }\n",
       "\n",
       "    .dataframe tbody tr th {\n",
       "        vertical-align: top;\n",
       "    }\n",
       "\n",
       "    .dataframe thead th {\n",
       "        text-align: right;\n",
       "    }\n",
       "</style>\n",
       "<table border=\"1\" class=\"dataframe\">\n",
       "  <thead>\n",
       "    <tr style=\"text-align: right;\">\n",
       "      <th></th>\n",
       "      <th>SellerG</th>\n",
       "      <th>Price</th>\n",
       "    </tr>\n",
       "  </thead>\n",
       "  <tbody>\n",
       "    <tr>\n",
       "      <th>59166</th>\n",
       "      <td>hockingstuart</td>\n",
       "      <td>11200000.0</td>\n",
       "    </tr>\n",
       "    <tr>\n",
       "      <th>61142</th>\n",
       "      <td>Hall</td>\n",
       "      <td>9000000.0</td>\n",
       "    </tr>\n",
       "    <tr>\n",
       "      <th>23841</th>\n",
       "      <td>Sotheby's</td>\n",
       "      <td>8000000.0</td>\n",
       "    </tr>\n",
       "    <tr>\n",
       "      <th>33780</th>\n",
       "      <td>Abercromby's</td>\n",
       "      <td>7650000.0</td>\n",
       "    </tr>\n",
       "    <tr>\n",
       "      <th>51592</th>\n",
       "      <td>Kay</td>\n",
       "      <td>7000000.0</td>\n",
       "    </tr>\n",
       "    <tr>\n",
       "      <th>30496</th>\n",
       "      <td>Marshall</td>\n",
       "      <td>6800000.0</td>\n",
       "    </tr>\n",
       "    <tr>\n",
       "      <th>1593</th>\n",
       "      <td>Marshall</td>\n",
       "      <td>6700000.0</td>\n",
       "    </tr>\n",
       "    <tr>\n",
       "      <th>7825</th>\n",
       "      <td>Marshall</td>\n",
       "      <td>6600000.0</td>\n",
       "    </tr>\n",
       "    <tr>\n",
       "      <th>17683</th>\n",
       "      <td>Jellis</td>\n",
       "      <td>6600000.0</td>\n",
       "    </tr>\n",
       "    <tr>\n",
       "      <th>24587</th>\n",
       "      <td>Jellis</td>\n",
       "      <td>6500000.0</td>\n",
       "    </tr>\n",
       "  </tbody>\n",
       "</table>\n",
       "</div>"
      ],
      "text/plain": [
       "             SellerG       Price\n",
       "59166  hockingstuart  11200000.0\n",
       "61142           Hall   9000000.0\n",
       "23841      Sotheby's   8000000.0\n",
       "33780   Abercromby's   7650000.0\n",
       "51592            Kay   7000000.0\n",
       "30496       Marshall   6800000.0\n",
       "1593        Marshall   6700000.0\n",
       "7825        Marshall   6600000.0\n",
       "17683         Jellis   6600000.0\n",
       "24587         Jellis   6500000.0"
      ]
     },
     "execution_count": 20,
     "metadata": {},
     "output_type": "execute_result"
    }
   ],
   "source": [
    "Sellers.nlargest(30, 'Price').head(10)"
   ]
  },
  {
   "cell_type": "markdown",
   "metadata": {},
   "source": [
    "### Exploring home and townhouse prices by northern and souther metropolitan area"
   ]
  },
  {
   "cell_type": "code",
   "execution_count": 21,
   "metadata": {},
   "outputs": [],
   "source": [
    "home_search1 = df2.Type == 'h'\n",
    "home_search2 = df2.Price > 500000.0\n",
    "home_search3 = (df2.Regionname == 'Northern Metropolitan') | (df2.Regionname == 'Southern Metropolitan')\n",
    "\n",
    "\n",
    "townhouse_search1 = df2.Type == 't'\n",
    "townhouse_search2 = df2.Price > 500000.0\n",
    "townhouse_search3 = (df2.Regionname == 'Northern Metropolitan') | (df2.Regionname == 'Southern Metropolitan')\n",
    "\n",
    "home_search_final = home_search1 & home_search2 & home_search3\n",
    "townhouse_search_final = townhouse_search1 & townhouse_search2 & townhouse_search3"
   ]
  },
  {
   "cell_type": "code",
   "execution_count": 22,
   "metadata": {},
   "outputs": [
    {
     "data": {
      "text/html": [
       "<div>\n",
       "<style scoped>\n",
       "    .dataframe tbody tr th:only-of-type {\n",
       "        vertical-align: middle;\n",
       "    }\n",
       "\n",
       "    .dataframe tbody tr th {\n",
       "        vertical-align: top;\n",
       "    }\n",
       "\n",
       "    .dataframe thead th {\n",
       "        text-align: right;\n",
       "    }\n",
       "</style>\n",
       "<table border=\"1\" class=\"dataframe\">\n",
       "  <thead>\n",
       "    <tr style=\"text-align: right;\">\n",
       "      <th></th>\n",
       "      <th>Regionname</th>\n",
       "      <th>CouncilArea</th>\n",
       "      <th>Suburb</th>\n",
       "      <th>Propertycount</th>\n",
       "      <th>Address</th>\n",
       "      <th>Postcode</th>\n",
       "      <th>Distance</th>\n",
       "      <th>Type</th>\n",
       "      <th>Rooms</th>\n",
       "      <th>Method</th>\n",
       "      <th>Date</th>\n",
       "      <th>SellerG</th>\n",
       "      <th>Price</th>\n",
       "    </tr>\n",
       "  </thead>\n",
       "  <tbody>\n",
       "    <tr>\n",
       "      <th>0</th>\n",
       "      <td>Northern Metropolitan</td>\n",
       "      <td>Yarra City Council</td>\n",
       "      <td>Abbotsford</td>\n",
       "      <td>4019</td>\n",
       "      <td>49 Lithgow St</td>\n",
       "      <td>3067</td>\n",
       "      <td>3.0</td>\n",
       "      <td>h</td>\n",
       "      <td>3</td>\n",
       "      <td>S</td>\n",
       "      <td>1/04/2017</td>\n",
       "      <td>Jellis</td>\n",
       "      <td>1490000.0</td>\n",
       "    </tr>\n",
       "    <tr>\n",
       "      <th>1</th>\n",
       "      <td>Northern Metropolitan</td>\n",
       "      <td>Yarra City Council</td>\n",
       "      <td>Abbotsford</td>\n",
       "      <td>4019</td>\n",
       "      <td>59A Turner St</td>\n",
       "      <td>3067</td>\n",
       "      <td>3.0</td>\n",
       "      <td>h</td>\n",
       "      <td>3</td>\n",
       "      <td>S</td>\n",
       "      <td>1/04/2017</td>\n",
       "      <td>Marshall</td>\n",
       "      <td>1220000.0</td>\n",
       "    </tr>\n",
       "    <tr>\n",
       "      <th>2</th>\n",
       "      <td>Northern Metropolitan</td>\n",
       "      <td>Yarra City Council</td>\n",
       "      <td>Abbotsford</td>\n",
       "      <td>4019</td>\n",
       "      <td>119B Yarra St</td>\n",
       "      <td>3067</td>\n",
       "      <td>3.0</td>\n",
       "      <td>h</td>\n",
       "      <td>3</td>\n",
       "      <td>S</td>\n",
       "      <td>1/04/2017</td>\n",
       "      <td>Nelson</td>\n",
       "      <td>1420000.0</td>\n",
       "    </tr>\n",
       "    <tr>\n",
       "      <th>9</th>\n",
       "      <td>Southern Metropolitan</td>\n",
       "      <td>Port Phillip City Council</td>\n",
       "      <td>Albert Park</td>\n",
       "      <td>3280</td>\n",
       "      <td>18 Mills St</td>\n",
       "      <td>3206</td>\n",
       "      <td>3.0</td>\n",
       "      <td>h</td>\n",
       "      <td>3</td>\n",
       "      <td>S</td>\n",
       "      <td>1/04/2017</td>\n",
       "      <td>Cayzer</td>\n",
       "      <td>1925000.0</td>\n",
       "    </tr>\n",
       "    <tr>\n",
       "      <th>12</th>\n",
       "      <td>Northern Metropolitan</td>\n",
       "      <td>Darebin City Council</td>\n",
       "      <td>Alphington</td>\n",
       "      <td>2211</td>\n",
       "      <td>55 Fulham Rd</td>\n",
       "      <td>3078</td>\n",
       "      <td>5.7</td>\n",
       "      <td>h</td>\n",
       "      <td>2</td>\n",
       "      <td>S</td>\n",
       "      <td>1/04/2017</td>\n",
       "      <td>Miles</td>\n",
       "      <td>1675000.0</td>\n",
       "    </tr>\n",
       "  </tbody>\n",
       "</table>\n",
       "</div>"
      ],
      "text/plain": [
       "               Regionname                CouncilArea       Suburb  \\\n",
       "0   Northern Metropolitan         Yarra City Council   Abbotsford   \n",
       "1   Northern Metropolitan         Yarra City Council   Abbotsford   \n",
       "2   Northern Metropolitan         Yarra City Council   Abbotsford   \n",
       "9   Southern Metropolitan  Port Phillip City Council  Albert Park   \n",
       "12  Northern Metropolitan       Darebin City Council   Alphington   \n",
       "\n",
       "    Propertycount        Address  Postcode  Distance Type  Rooms Method  \\\n",
       "0            4019  49 Lithgow St      3067       3.0    h      3      S   \n",
       "1            4019  59A Turner St      3067       3.0    h      3      S   \n",
       "2            4019  119B Yarra St      3067       3.0    h      3      S   \n",
       "9            3280    18 Mills St      3206       3.0    h      3      S   \n",
       "12           2211   55 Fulham Rd      3078       5.7    h      2      S   \n",
       "\n",
       "         Date   SellerG      Price  \n",
       "0   1/04/2017    Jellis  1490000.0  \n",
       "1   1/04/2017  Marshall  1220000.0  \n",
       "2   1/04/2017    Nelson  1420000.0  \n",
       "9   1/04/2017    Cayzer  1925000.0  \n",
       "12  1/04/2017     Miles  1675000.0  "
      ]
     },
     "execution_count": 22,
     "metadata": {},
     "output_type": "execute_result"
    }
   ],
   "source": [
    "df2[home_search_final].head()"
   ]
  },
  {
   "cell_type": "code",
   "execution_count": 23,
   "metadata": {},
   "outputs": [
    {
     "data": {
      "text/html": [
       "<div>\n",
       "<style scoped>\n",
       "    .dataframe tbody tr th:only-of-type {\n",
       "        vertical-align: middle;\n",
       "    }\n",
       "\n",
       "    .dataframe tbody tr th {\n",
       "        vertical-align: top;\n",
       "    }\n",
       "\n",
       "    .dataframe thead th {\n",
       "        text-align: right;\n",
       "    }\n",
       "</style>\n",
       "<table border=\"1\" class=\"dataframe\">\n",
       "  <thead>\n",
       "    <tr style=\"text-align: right;\">\n",
       "      <th></th>\n",
       "      <th>Regionname</th>\n",
       "      <th>CouncilArea</th>\n",
       "      <th>Suburb</th>\n",
       "      <th>Propertycount</th>\n",
       "      <th>Address</th>\n",
       "      <th>Postcode</th>\n",
       "      <th>Distance</th>\n",
       "      <th>Type</th>\n",
       "      <th>Rooms</th>\n",
       "      <th>Method</th>\n",
       "      <th>Date</th>\n",
       "      <th>SellerG</th>\n",
       "      <th>Price</th>\n",
       "    </tr>\n",
       "  </thead>\n",
       "  <tbody>\n",
       "    <tr>\n",
       "      <th>25</th>\n",
       "      <td>Southern Metropolitan</td>\n",
       "      <td>Boroondara City Council</td>\n",
       "      <td>Ashburton</td>\n",
       "      <td>3052</td>\n",
       "      <td>61A Victory Bvd</td>\n",
       "      <td>3147</td>\n",
       "      <td>10.2</td>\n",
       "      <td>t</td>\n",
       "      <td>3</td>\n",
       "      <td>S</td>\n",
       "      <td>1/04/2017</td>\n",
       "      <td>Jellis</td>\n",
       "      <td>1610000.0</td>\n",
       "    </tr>\n",
       "    <tr>\n",
       "      <th>32</th>\n",
       "      <td>Southern Metropolitan</td>\n",
       "      <td>Boroondara City Council</td>\n",
       "      <td>Balwyn</td>\n",
       "      <td>5682</td>\n",
       "      <td>2/362 Belmore Rd</td>\n",
       "      <td>3103</td>\n",
       "      <td>7.9</td>\n",
       "      <td>t</td>\n",
       "      <td>2</td>\n",
       "      <td>PI</td>\n",
       "      <td>1/04/2017</td>\n",
       "      <td>Walshe</td>\n",
       "      <td>700000.0</td>\n",
       "    </tr>\n",
       "    <tr>\n",
       "      <th>51</th>\n",
       "      <td>Southern Metropolitan</td>\n",
       "      <td>Glen Eira City Council</td>\n",
       "      <td>Bentleigh</td>\n",
       "      <td>6795</td>\n",
       "      <td>4b Hobart St</td>\n",
       "      <td>3204</td>\n",
       "      <td>11.4</td>\n",
       "      <td>t</td>\n",
       "      <td>4</td>\n",
       "      <td>VB</td>\n",
       "      <td>1/04/2017</td>\n",
       "      <td>hockingstuart</td>\n",
       "      <td>1300000.0</td>\n",
       "    </tr>\n",
       "    <tr>\n",
       "      <th>52</th>\n",
       "      <td>Southern Metropolitan</td>\n",
       "      <td>Glen Eira City Council</td>\n",
       "      <td>Bentleigh</td>\n",
       "      <td>6795</td>\n",
       "      <td>36a Marquis Rd</td>\n",
       "      <td>3204</td>\n",
       "      <td>11.4</td>\n",
       "      <td>t</td>\n",
       "      <td>4</td>\n",
       "      <td>PI</td>\n",
       "      <td>1/04/2017</td>\n",
       "      <td>hockingstuart</td>\n",
       "      <td>1500000.0</td>\n",
       "    </tr>\n",
       "    <tr>\n",
       "      <th>57</th>\n",
       "      <td>Southern Metropolitan</td>\n",
       "      <td>Glen Eira City Council</td>\n",
       "      <td>Bentleigh East</td>\n",
       "      <td>10969</td>\n",
       "      <td>35 Highview Rd</td>\n",
       "      <td>3165</td>\n",
       "      <td>13.8</td>\n",
       "      <td>t</td>\n",
       "      <td>2</td>\n",
       "      <td>S</td>\n",
       "      <td>1/04/2017</td>\n",
       "      <td>hockingstuart</td>\n",
       "      <td>775000.0</td>\n",
       "    </tr>\n",
       "  </tbody>\n",
       "</table>\n",
       "</div>"
      ],
      "text/plain": [
       "               Regionname              CouncilArea          Suburb  \\\n",
       "25  Southern Metropolitan  Boroondara City Council       Ashburton   \n",
       "32  Southern Metropolitan  Boroondara City Council          Balwyn   \n",
       "51  Southern Metropolitan   Glen Eira City Council       Bentleigh   \n",
       "52  Southern Metropolitan   Glen Eira City Council       Bentleigh   \n",
       "57  Southern Metropolitan   Glen Eira City Council  Bentleigh East   \n",
       "\n",
       "    Propertycount           Address  Postcode  Distance Type  Rooms Method  \\\n",
       "25           3052   61A Victory Bvd      3147      10.2    t      3      S   \n",
       "32           5682  2/362 Belmore Rd      3103       7.9    t      2     PI   \n",
       "51           6795      4b Hobart St      3204      11.4    t      4     VB   \n",
       "52           6795    36a Marquis Rd      3204      11.4    t      4     PI   \n",
       "57          10969    35 Highview Rd      3165      13.8    t      2      S   \n",
       "\n",
       "         Date        SellerG      Price  \n",
       "25  1/04/2017         Jellis  1610000.0  \n",
       "32  1/04/2017         Walshe   700000.0  \n",
       "51  1/04/2017  hockingstuart  1300000.0  \n",
       "52  1/04/2017  hockingstuart  1500000.0  \n",
       "57  1/04/2017  hockingstuart   775000.0  "
      ]
     },
     "execution_count": 23,
     "metadata": {},
     "output_type": "execute_result"
    }
   ],
   "source": [
    "df2[townhouse_search_final].head()"
   ]
  },
  {
   "cell_type": "code",
   "execution_count": 24,
   "metadata": {},
   "outputs": [
    {
     "data": {
      "text/html": [
       "<div>\n",
       "<style scoped>\n",
       "    .dataframe tbody tr th:only-of-type {\n",
       "        vertical-align: middle;\n",
       "    }\n",
       "\n",
       "    .dataframe tbody tr th {\n",
       "        vertical-align: top;\n",
       "    }\n",
       "\n",
       "    .dataframe thead th {\n",
       "        text-align: right;\n",
       "    }\n",
       "</style>\n",
       "<table border=\"1\" class=\"dataframe\">\n",
       "  <thead>\n",
       "    <tr style=\"text-align: right;\">\n",
       "      <th></th>\n",
       "      <th>Type</th>\n",
       "      <th>Price</th>\n",
       "      <th>Regionname</th>\n",
       "    </tr>\n",
       "  </thead>\n",
       "  <tbody>\n",
       "    <tr>\n",
       "      <th>0</th>\n",
       "      <td>h</td>\n",
       "      <td>1490000.0</td>\n",
       "      <td>Northern Metropolitan</td>\n",
       "    </tr>\n",
       "    <tr>\n",
       "      <th>1</th>\n",
       "      <td>h</td>\n",
       "      <td>1220000.0</td>\n",
       "      <td>Northern Metropolitan</td>\n",
       "    </tr>\n",
       "    <tr>\n",
       "      <th>2</th>\n",
       "      <td>h</td>\n",
       "      <td>1420000.0</td>\n",
       "      <td>Northern Metropolitan</td>\n",
       "    </tr>\n",
       "    <tr>\n",
       "      <th>9</th>\n",
       "      <td>h</td>\n",
       "      <td>1925000.0</td>\n",
       "      <td>Southern Metropolitan</td>\n",
       "    </tr>\n",
       "    <tr>\n",
       "      <th>12</th>\n",
       "      <td>h</td>\n",
       "      <td>1675000.0</td>\n",
       "      <td>Northern Metropolitan</td>\n",
       "    </tr>\n",
       "  </tbody>\n",
       "</table>\n",
       "</div>"
      ],
      "text/plain": [
       "   Type      Price             Regionname\n",
       "0     h  1490000.0  Northern Metropolitan\n",
       "1     h  1220000.0  Northern Metropolitan\n",
       "2     h  1420000.0  Northern Metropolitan\n",
       "9     h  1925000.0  Southern Metropolitan\n",
       "12    h  1675000.0  Northern Metropolitan"
      ]
     },
     "execution_count": 24,
     "metadata": {},
     "output_type": "execute_result"
    }
   ],
   "source": [
    "cols = ['Type', 'Price', 'Regionname']\n",
    "homes_filtered = df2.loc[home_search_final, cols]\n",
    "homes_filtered.head()"
   ]
  },
  {
   "cell_type": "code",
   "execution_count": 25,
   "metadata": {},
   "outputs": [
    {
     "data": {
      "text/html": [
       "<div>\n",
       "<style scoped>\n",
       "    .dataframe tbody tr th:only-of-type {\n",
       "        vertical-align: middle;\n",
       "    }\n",
       "\n",
       "    .dataframe tbody tr th {\n",
       "        vertical-align: top;\n",
       "    }\n",
       "\n",
       "    .dataframe thead th {\n",
       "        text-align: right;\n",
       "    }\n",
       "</style>\n",
       "<table border=\"1\" class=\"dataframe\">\n",
       "  <thead>\n",
       "    <tr style=\"text-align: right;\">\n",
       "      <th></th>\n",
       "      <th>Type</th>\n",
       "      <th>Price</th>\n",
       "      <th>Regionname</th>\n",
       "    </tr>\n",
       "  </thead>\n",
       "  <tbody>\n",
       "    <tr>\n",
       "      <th>25</th>\n",
       "      <td>t</td>\n",
       "      <td>1610000.0</td>\n",
       "      <td>Southern Metropolitan</td>\n",
       "    </tr>\n",
       "    <tr>\n",
       "      <th>32</th>\n",
       "      <td>t</td>\n",
       "      <td>700000.0</td>\n",
       "      <td>Southern Metropolitan</td>\n",
       "    </tr>\n",
       "    <tr>\n",
       "      <th>51</th>\n",
       "      <td>t</td>\n",
       "      <td>1300000.0</td>\n",
       "      <td>Southern Metropolitan</td>\n",
       "    </tr>\n",
       "    <tr>\n",
       "      <th>52</th>\n",
       "      <td>t</td>\n",
       "      <td>1500000.0</td>\n",
       "      <td>Southern Metropolitan</td>\n",
       "    </tr>\n",
       "    <tr>\n",
       "      <th>57</th>\n",
       "      <td>t</td>\n",
       "      <td>775000.0</td>\n",
       "      <td>Southern Metropolitan</td>\n",
       "    </tr>\n",
       "  </tbody>\n",
       "</table>\n",
       "</div>"
      ],
      "text/plain": [
       "   Type      Price             Regionname\n",
       "25    t  1610000.0  Southern Metropolitan\n",
       "32    t   700000.0  Southern Metropolitan\n",
       "51    t  1300000.0  Southern Metropolitan\n",
       "52    t  1500000.0  Southern Metropolitan\n",
       "57    t   775000.0  Southern Metropolitan"
      ]
     },
     "execution_count": 25,
     "metadata": {},
     "output_type": "execute_result"
    }
   ],
   "source": [
    "townhouse_filtered = df2.loc[townhouse_search_final, cols]\n",
    "townhouse_filtered.head()"
   ]
  },
  {
   "cell_type": "markdown",
   "metadata": {},
   "source": [
    "### Target Variable House Price"
   ]
  },
  {
   "cell_type": "code",
   "execution_count": 26,
   "metadata": {},
   "outputs": [
    {
     "data": {
      "text/plain": [
       "<matplotlib.axes._subplots.AxesSubplot at 0xb971b38>"
      ]
     },
     "execution_count": 26,
     "metadata": {},
     "output_type": "execute_result"
    },
    {
     "data": {
      "image/png": "[encoded data removed]",
      "text/plain": [
       "<Figure size 432x288 with 1 Axes>"
      ]
     },
     "metadata": {
      "needs_background": "light"
     },
     "output_type": "display_data"
    }
   ],
   "source": [
    "sns.heatmap(df2.isnull(), yticklabels= False, cbar = False, cmap = 'viridis')"
   ]
  },
  {
   "cell_type": "code",
   "execution_count": 27,
   "metadata": {},
   "outputs": [
    {
     "data": {
      "text/plain": [
       "Regionname           0\n",
       "CouncilArea          0\n",
       "Suburb               0\n",
       "Propertycount        0\n",
       "Address              0\n",
       "Postcode             0\n",
       "Distance             0\n",
       "Type                 0\n",
       "Rooms                0\n",
       "Method               0\n",
       "Date                 0\n",
       "SellerG              0\n",
       "Price            14590\n",
       "dtype: int64"
      ]
     },
     "execution_count": 27,
     "metadata": {},
     "output_type": "execute_result"
    }
   ],
   "source": [
    "df2.isnull().sum()"
   ]
  },
  {
   "cell_type": "code",
   "execution_count": 28,
   "metadata": {},
   "outputs": [
    {
     "data": {
      "text/plain": [
       "0.23150278469765007"
      ]
     },
     "execution_count": 28,
     "metadata": {},
     "output_type": "execute_result"
    }
   ],
   "source": [
    "# Percentage of missing data from the target variable\n",
    "\n",
    "df2.Price.isnull().sum() / len(df.Price)"
   ]
  },
  {
   "cell_type": "code",
   "execution_count": 29,
   "metadata": {},
   "outputs": [],
   "source": [
    "House_Price = df2['Price']"
   ]
  },
  {
   "cell_type": "code",
   "execution_count": 30,
   "metadata": {},
   "outputs": [],
   "source": [
    "House_Price_dropped_values = df2.Price.dropna()"
   ]
  },
  {
   "cell_type": "code",
   "execution_count": 31,
   "metadata": {},
   "outputs": [],
   "source": [
    "def moments(d):\n",
    "    print('There is a mean of {}'.format(d.mean()))\n",
    "    print('There is a skew of {}'.format(d.skew()))\n",
    "    print('There is a kurtosis value is {}'.format(d.kurt()))"
   ]
  },
  {
   "cell_type": "code",
   "execution_count": 32,
   "metadata": {},
   "outputs": [
    {
     "data": {
      "text/plain": [
       "count    4.843300e+04\n",
       "mean     9.978982e+05\n",
       "std      5.934989e+05\n",
       "min      8.500000e+04\n",
       "25%      6.200000e+05\n",
       "50%      8.300000e+05\n",
       "75%      1.220000e+06\n",
       "max      1.120000e+07\n",
       "Name: Price, dtype: float64"
      ]
     },
     "execution_count": 32,
     "metadata": {},
     "output_type": "execute_result"
    }
   ],
   "source": [
    "House_Price.describe()"
   ]
  },
  {
   "cell_type": "code",
   "execution_count": 33,
   "metadata": {},
   "outputs": [
    {
     "name": "stdout",
     "output_type": "stream",
     "text": [
      "There is a mean of 997898.2414882415\n",
      "There is a skew of 2.650122789539991\n",
      "There is a kurtosis value is 13.598849231483635\n"
     ]
    }
   ],
   "source": [
    "moments(House_Price)"
   ]
  },
  {
   "cell_type": "code",
   "execution_count": 34,
   "metadata": {},
   "outputs": [
    {
     "name": "stderr",
     "output_type": "stream",
     "text": [
      "C:\\Users\\Andrew\\Anaconda3\\lib\\site-packages\\scipy\\stats\\stats.py:1713: FutureWarning: Using a non-tuple sequence for multidimensional indexing is deprecated; use `arr[tuple(seq)]` instead of `arr[seq]`. In the future this will be interpreted as an array index, `arr[np.array(seq)]`, which will result either in an error or a different result.\n",
      "  return np.add.reduce(sorted[indexer] * weights, axis=axis) / sumval\n"
     ]
    },
    {
     "data": {
      "text/plain": [
       "<matplotlib.axes._subplots.AxesSubplot at 0xba9c1d0>"
      ]
     },
     "execution_count": 34,
     "metadata": {},
     "output_type": "execute_result"
    },
    {
     "data": {
      "image/png": "[encoded data removed]",
      "text/plain": [
       "<Figure size 432x288 with 1 Axes>"
      ]
     },
     "metadata": {
      "needs_background": "light"
     },
     "output_type": "display_data"
    }
   ],
   "source": [
    "sns.distplot(House_Price_dropped_values)"
   ]
  },
  {
   "cell_type": "markdown",
   "metadata": {},
   "source": [
    "### Imputing missing values with mean"
   ]
  },
  {
   "cell_type": "code",
   "execution_count": 35,
   "metadata": {},
   "outputs": [],
   "source": [
    "df2['Price'] = df2['Price'].fillna(df['Price'].mean())"
   ]
  },
  {
   "cell_type": "code",
   "execution_count": 36,
   "metadata": {},
   "outputs": [
    {
     "name": "stdout",
     "output_type": "stream",
     "text": [
      "<class 'pandas.core.frame.DataFrame'>\n",
      "RangeIndex: 63023 entries, 0 to 63022\n",
      "Data columns (total 13 columns):\n",
      "Regionname       63023 non-null object\n",
      "CouncilArea      63023 non-null object\n",
      "Suburb           63023 non-null object\n",
      "Propertycount    63023 non-null int64\n",
      "Address          63023 non-null object\n",
      "Postcode         63023 non-null int64\n",
      "Distance         63023 non-null float64\n",
      "Type             63023 non-null object\n",
      "Rooms            63023 non-null int64\n",
      "Method           63023 non-null object\n",
      "Date             63023 non-null object\n",
      "SellerG          63023 non-null object\n",
      "Price            63023 non-null float64\n",
      "dtypes: float64(2), int64(3), object(8)\n",
      "memory usage: 6.3+ MB\n"
     ]
    }
   ],
   "source": [
    "df2.info()"
   ]
  },
  {
   "cell_type": "markdown",
   "metadata": {},
   "source": [
    "### Categorical Variables"
   ]
  },
  {
   "cell_type": "code",
   "execution_count": 37,
   "metadata": {},
   "outputs": [
    {
     "data": {
      "text/plain": [
       "h    45053\n",
       "u    11655\n",
       "t     6315\n",
       "Name: Type, dtype: int64"
      ]
     },
     "execution_count": 37,
     "metadata": {},
     "output_type": "execute_result"
    }
   ],
   "source": [
    "df2['Type'].value_counts()"
   ]
  },
  {
   "cell_type": "code",
   "execution_count": 38,
   "metadata": {},
   "outputs": [
    {
     "data": {
      "text/plain": [
       "<matplotlib.axes._subplots.AxesSubplot at 0xb1bb588>"
      ]
     },
     "execution_count": 38,
     "metadata": {},
     "output_type": "execute_result"
    },
    {
     "data": {
      "image/png": "[encoded data removed]",
      "text/plain": [
       "<Figure size 432x288 with 1 Axes>"
      ]
     },
     "metadata": {
      "needs_background": "light"
     },
     "output_type": "display_data"
    }
   ],
   "source": [
    "sns.countplot(x = 'Type', data = df2, palette = 'hls')"
   ]
  },
  {
   "cell_type": "code",
   "execution_count": 39,
   "metadata": {},
   "outputs": [
    {
     "data": {
      "text/plain": [
       "Boroondara City Council    5132\n",
       "Darebin City Council       4182\n",
       "Banyule City Council       3656\n",
       "Monash City Council        3592\n",
       "Bayside City Council       3331\n",
       "Name: CouncilArea, dtype: int64"
      ]
     },
     "execution_count": 39,
     "metadata": {},
     "output_type": "execute_result"
    }
   ],
   "source": [
    "df2['CouncilArea'].value_counts().head()"
   ]
  },
  {
   "cell_type": "code",
   "execution_count": 40,
   "metadata": {},
   "outputs": [
    {
     "data": {
      "text/plain": [
       "Reservoir         1241\n",
       "Bentleigh East     845\n",
       "Mount Waverley     831\n",
       "Richmond           822\n",
       "Glen Waverley      819\n",
       "Craigieburn        783\n",
       "Preston            699\n",
       "Kew                668\n",
       "Glen Iris          662\n",
       "Brunswick          644\n",
       "Name: Suburb, dtype: int64"
      ]
     },
     "execution_count": 40,
     "metadata": {},
     "output_type": "execute_result"
    }
   ],
   "source": [
    "df2['Suburb'].value_counts().head(10)"
   ]
  },
  {
   "cell_type": "code",
   "execution_count": 41,
   "metadata": {
    "scrolled": true
   },
   "outputs": [
    {
     "data": {
      "text/plain": [
       "Southern Metropolitan         17559\n",
       "Northern Metropolitan         16781\n",
       "Western Metropolitan          11717\n",
       "Eastern Metropolitan          10396\n",
       "South-Eastern Metropolitan     5212\n",
       "Eastern Victoria                564\n",
       "Northern Victoria               556\n",
       "Western Victoria                238\n",
       "Name: Regionname, dtype: int64"
      ]
     },
     "execution_count": 41,
     "metadata": {},
     "output_type": "execute_result"
    }
   ],
   "source": [
    "df2['Regionname'].value_counts()"
   ]
  },
  {
   "cell_type": "code",
   "execution_count": 42,
   "metadata": {
    "scrolled": true
   },
   "outputs": [
    {
     "data": {
      "text/plain": [
       "<matplotlib.axes._subplots.AxesSubplot at 0xc51fa58>"
      ]
     },
     "execution_count": 42,
     "metadata": {},
     "output_type": "execute_result"
    },
    {
     "data": {
      "image/png": "[encoded data removed]",
      "text/plain": [
       "<Figure size 432x288 with 1 Axes>"
      ]
     },
     "metadata": {
      "needs_background": "light"
     },
     "output_type": "display_data"
    }
   ],
   "source": [
    "sns.countplot(x = 'Regionname', data = df2, palette = 'hls')"
   ]
  },
  {
   "cell_type": "markdown",
   "metadata": {},
   "source": [
    "### Converting categorical variables to numerical"
   ]
  },
  {
   "cell_type": "code",
   "execution_count": 43,
   "metadata": {},
   "outputs": [],
   "source": [
    "categorical = df2.select_dtypes(exclude = [np.number])"
   ]
  },
  {
   "cell_type": "code",
   "execution_count": 44,
   "metadata": {},
   "outputs": [
    {
     "data": {
      "text/html": [
       "<div>\n",
       "<style scoped>\n",
       "    .dataframe tbody tr th:only-of-type {\n",
       "        vertical-align: middle;\n",
       "    }\n",
       "\n",
       "    .dataframe tbody tr th {\n",
       "        vertical-align: top;\n",
       "    }\n",
       "\n",
       "    .dataframe thead th {\n",
       "        text-align: right;\n",
       "    }\n",
       "</style>\n",
       "<table border=\"1\" class=\"dataframe\">\n",
       "  <thead>\n",
       "    <tr style=\"text-align: right;\">\n",
       "      <th></th>\n",
       "      <th>Regionname</th>\n",
       "      <th>CouncilArea</th>\n",
       "      <th>Suburb</th>\n",
       "      <th>Address</th>\n",
       "      <th>Type</th>\n",
       "      <th>Method</th>\n",
       "      <th>Date</th>\n",
       "      <th>SellerG</th>\n",
       "    </tr>\n",
       "  </thead>\n",
       "  <tbody>\n",
       "    <tr>\n",
       "      <th>0</th>\n",
       "      <td>Northern Metropolitan</td>\n",
       "      <td>Yarra City Council</td>\n",
       "      <td>Abbotsford</td>\n",
       "      <td>49 Lithgow St</td>\n",
       "      <td>h</td>\n",
       "      <td>S</td>\n",
       "      <td>1/04/2017</td>\n",
       "      <td>Jellis</td>\n",
       "    </tr>\n",
       "    <tr>\n",
       "      <th>1</th>\n",
       "      <td>Northern Metropolitan</td>\n",
       "      <td>Yarra City Council</td>\n",
       "      <td>Abbotsford</td>\n",
       "      <td>59A Turner St</td>\n",
       "      <td>h</td>\n",
       "      <td>S</td>\n",
       "      <td>1/04/2017</td>\n",
       "      <td>Marshall</td>\n",
       "    </tr>\n",
       "    <tr>\n",
       "      <th>2</th>\n",
       "      <td>Northern Metropolitan</td>\n",
       "      <td>Yarra City Council</td>\n",
       "      <td>Abbotsford</td>\n",
       "      <td>119B Yarra St</td>\n",
       "      <td>h</td>\n",
       "      <td>S</td>\n",
       "      <td>1/04/2017</td>\n",
       "      <td>Nelson</td>\n",
       "    </tr>\n",
       "    <tr>\n",
       "      <th>3</th>\n",
       "      <td>Western Metropolitan</td>\n",
       "      <td>Moonee Valley City Council</td>\n",
       "      <td>Aberfeldie</td>\n",
       "      <td>68 Vida St</td>\n",
       "      <td>h</td>\n",
       "      <td>S</td>\n",
       "      <td>1/04/2017</td>\n",
       "      <td>Barry</td>\n",
       "    </tr>\n",
       "    <tr>\n",
       "      <th>4</th>\n",
       "      <td>Western Metropolitan</td>\n",
       "      <td>Moonee Valley City Council</td>\n",
       "      <td>Airport West</td>\n",
       "      <td>92 Clydesdale Rd</td>\n",
       "      <td>h</td>\n",
       "      <td>S</td>\n",
       "      <td>1/04/2017</td>\n",
       "      <td>Nelson</td>\n",
       "    </tr>\n",
       "  </tbody>\n",
       "</table>\n",
       "</div>"
      ],
      "text/plain": [
       "              Regionname                 CouncilArea        Suburb  \\\n",
       "0  Northern Metropolitan          Yarra City Council    Abbotsford   \n",
       "1  Northern Metropolitan          Yarra City Council    Abbotsford   \n",
       "2  Northern Metropolitan          Yarra City Council    Abbotsford   \n",
       "3   Western Metropolitan  Moonee Valley City Council    Aberfeldie   \n",
       "4   Western Metropolitan  Moonee Valley City Council  Airport West   \n",
       "\n",
       "            Address Type Method       Date   SellerG  \n",
       "0     49 Lithgow St    h      S  1/04/2017    Jellis  \n",
       "1     59A Turner St    h      S  1/04/2017  Marshall  \n",
       "2     119B Yarra St    h      S  1/04/2017    Nelson  \n",
       "3        68 Vida St    h      S  1/04/2017     Barry  \n",
       "4  92 Clydesdale Rd    h      S  1/04/2017    Nelson  "
      ]
     },
     "execution_count": 44,
     "metadata": {},
     "output_type": "execute_result"
    }
   ],
   "source": [
    "categorical.head()"
   ]
  },
  {
   "cell_type": "code",
   "execution_count": 45,
   "metadata": {},
   "outputs": [
    {
     "data": {
      "text/html": [
       "<div>\n",
       "<style scoped>\n",
       "    .dataframe tbody tr th:only-of-type {\n",
       "        vertical-align: middle;\n",
       "    }\n",
       "\n",
       "    .dataframe tbody tr th {\n",
       "        vertical-align: top;\n",
       "    }\n",
       "\n",
       "    .dataframe thead th {\n",
       "        text-align: right;\n",
       "    }\n",
       "</style>\n",
       "<table border=\"1\" class=\"dataframe\">\n",
       "  <thead>\n",
       "    <tr style=\"text-align: right;\">\n",
       "      <th></th>\n",
       "      <th>Regionname</th>\n",
       "      <th>CouncilArea</th>\n",
       "      <th>Suburb</th>\n",
       "      <th>Propertycount</th>\n",
       "      <th>Address</th>\n",
       "      <th>Postcode</th>\n",
       "      <th>Distance</th>\n",
       "      <th>Type</th>\n",
       "      <th>Rooms</th>\n",
       "      <th>Method</th>\n",
       "      <th>Date</th>\n",
       "      <th>SellerG</th>\n",
       "      <th>Price</th>\n",
       "    </tr>\n",
       "  </thead>\n",
       "  <tbody>\n",
       "    <tr>\n",
       "      <th>0</th>\n",
       "      <td>Northern Metropolitan</td>\n",
       "      <td>Yarra City Council</td>\n",
       "      <td>Abbotsford</td>\n",
       "      <td>4019</td>\n",
       "      <td>49 Lithgow St</td>\n",
       "      <td>3067</td>\n",
       "      <td>3.0</td>\n",
       "      <td>h</td>\n",
       "      <td>3</td>\n",
       "      <td>S</td>\n",
       "      <td>1/04/2017</td>\n",
       "      <td>Jellis</td>\n",
       "      <td>1490000.0</td>\n",
       "    </tr>\n",
       "    <tr>\n",
       "      <th>1</th>\n",
       "      <td>Northern Metropolitan</td>\n",
       "      <td>Yarra City Council</td>\n",
       "      <td>Abbotsford</td>\n",
       "      <td>4019</td>\n",
       "      <td>59A Turner St</td>\n",
       "      <td>3067</td>\n",
       "      <td>3.0</td>\n",
       "      <td>h</td>\n",
       "      <td>3</td>\n",
       "      <td>S</td>\n",
       "      <td>1/04/2017</td>\n",
       "      <td>Marshall</td>\n",
       "      <td>1220000.0</td>\n",
       "    </tr>\n",
       "    <tr>\n",
       "      <th>2</th>\n",
       "      <td>Northern Metropolitan</td>\n",
       "      <td>Yarra City Council</td>\n",
       "      <td>Abbotsford</td>\n",
       "      <td>4019</td>\n",
       "      <td>119B Yarra St</td>\n",
       "      <td>3067</td>\n",
       "      <td>3.0</td>\n",
       "      <td>h</td>\n",
       "      <td>3</td>\n",
       "      <td>S</td>\n",
       "      <td>1/04/2017</td>\n",
       "      <td>Nelson</td>\n",
       "      <td>1420000.0</td>\n",
       "    </tr>\n",
       "    <tr>\n",
       "      <th>3</th>\n",
       "      <td>Western Metropolitan</td>\n",
       "      <td>Moonee Valley City Council</td>\n",
       "      <td>Aberfeldie</td>\n",
       "      <td>1543</td>\n",
       "      <td>68 Vida St</td>\n",
       "      <td>3040</td>\n",
       "      <td>7.5</td>\n",
       "      <td>h</td>\n",
       "      <td>3</td>\n",
       "      <td>S</td>\n",
       "      <td>1/04/2017</td>\n",
       "      <td>Barry</td>\n",
       "      <td>1515000.0</td>\n",
       "    </tr>\n",
       "    <tr>\n",
       "      <th>4</th>\n",
       "      <td>Western Metropolitan</td>\n",
       "      <td>Moonee Valley City Council</td>\n",
       "      <td>Airport West</td>\n",
       "      <td>3464</td>\n",
       "      <td>92 Clydesdale Rd</td>\n",
       "      <td>3042</td>\n",
       "      <td>10.4</td>\n",
       "      <td>h</td>\n",
       "      <td>2</td>\n",
       "      <td>S</td>\n",
       "      <td>1/04/2017</td>\n",
       "      <td>Nelson</td>\n",
       "      <td>670000.0</td>\n",
       "    </tr>\n",
       "  </tbody>\n",
       "</table>\n",
       "</div>"
      ],
      "text/plain": [
       "              Regionname                 CouncilArea        Suburb  \\\n",
       "0  Northern Metropolitan          Yarra City Council    Abbotsford   \n",
       "1  Northern Metropolitan          Yarra City Council    Abbotsford   \n",
       "2  Northern Metropolitan          Yarra City Council    Abbotsford   \n",
       "3   Western Metropolitan  Moonee Valley City Council    Aberfeldie   \n",
       "4   Western Metropolitan  Moonee Valley City Council  Airport West   \n",
       "\n",
       "   Propertycount           Address  Postcode  Distance Type  Rooms Method  \\\n",
       "0           4019     49 Lithgow St      3067       3.0    h      3      S   \n",
       "1           4019     59A Turner St      3067       3.0    h      3      S   \n",
       "2           4019     119B Yarra St      3067       3.0    h      3      S   \n",
       "3           1543        68 Vida St      3040       7.5    h      3      S   \n",
       "4           3464  92 Clydesdale Rd      3042      10.4    h      2      S   \n",
       "\n",
       "        Date   SellerG      Price  \n",
       "0  1/04/2017    Jellis  1490000.0  \n",
       "1  1/04/2017  Marshall  1220000.0  \n",
       "2  1/04/2017    Nelson  1420000.0  \n",
       "3  1/04/2017     Barry  1515000.0  \n",
       "4  1/04/2017    Nelson   670000.0  "
      ]
     },
     "execution_count": 45,
     "metadata": {},
     "output_type": "execute_result"
    }
   ],
   "source": [
    "df2.head()"
   ]
  },
  {
   "cell_type": "code",
   "execution_count": 46,
   "metadata": {},
   "outputs": [],
   "source": [
    "label_encoder = LabelEncoder()"
   ]
  },
  {
   "cell_type": "code",
   "execution_count": 47,
   "metadata": {},
   "outputs": [
    {
     "data": {
      "text/plain": [
       "LabelEncoder()"
      ]
     },
     "execution_count": 47,
     "metadata": {},
     "output_type": "execute_result"
    }
   ],
   "source": [
    "label_encoder.fit(df2['Suburb'])"
   ]
  },
  {
   "cell_type": "code",
   "execution_count": 48,
   "metadata": {},
   "outputs": [],
   "source": [
    "Burbs = label_encoder.transform(df2['Suburb'])"
   ]
  },
  {
   "cell_type": "code",
   "execution_count": 49,
   "metadata": {},
   "outputs": [
    {
     "data": {
      "text/plain": [
       "array([  0,   0,   0, ..., 295, 332, 364], dtype=int64)"
      ]
     },
     "execution_count": 49,
     "metadata": {},
     "output_type": "execute_result"
    }
   ],
   "source": [
    "Burbs"
   ]
  },
  {
   "cell_type": "code",
   "execution_count": 50,
   "metadata": {},
   "outputs": [],
   "source": [
    "df2['Burbs'] = Burbs"
   ]
  },
  {
   "cell_type": "code",
   "execution_count": 51,
   "metadata": {},
   "outputs": [],
   "source": [
    "label_encoder_2 = LabelEncoder()"
   ]
  },
  {
   "cell_type": "code",
   "execution_count": 52,
   "metadata": {},
   "outputs": [
    {
     "data": {
      "text/plain": [
       "LabelEncoder()"
      ]
     },
     "execution_count": 52,
     "metadata": {},
     "output_type": "execute_result"
    }
   ],
   "source": [
    "label_encoder_2.fit(df2['Regionname'])"
   ]
  },
  {
   "cell_type": "code",
   "execution_count": 53,
   "metadata": {},
   "outputs": [],
   "source": [
    "Regions = label_encoder_2.transform(df2['Regionname'])"
   ]
  },
  {
   "cell_type": "code",
   "execution_count": 54,
   "metadata": {},
   "outputs": [
    {
     "data": {
      "text/plain": [
       "array([2, 2, 2, ..., 2, 2, 6], dtype=int64)"
      ]
     },
     "execution_count": 54,
     "metadata": {},
     "output_type": "execute_result"
    }
   ],
   "source": [
    "Regions"
   ]
  },
  {
   "cell_type": "code",
   "execution_count": 55,
   "metadata": {},
   "outputs": [],
   "source": [
    "df2['Regions'] = Regions"
   ]
  },
  {
   "cell_type": "code",
   "execution_count": 56,
   "metadata": {},
   "outputs": [],
   "source": [
    "for col, col_data in df2.items():\n",
    "    if is_string_dtype(col_data):\n",
    "        df2[col] = df2[col].astype('category').cat.as_ordered().cat.codes"
   ]
  },
  {
   "cell_type": "code",
   "execution_count": 57,
   "metadata": {},
   "outputs": [
    {
     "data": {
      "text/html": [
       "<div>\n",
       "<style scoped>\n",
       "    .dataframe tbody tr th:only-of-type {\n",
       "        vertical-align: middle;\n",
       "    }\n",
       "\n",
       "    .dataframe tbody tr th {\n",
       "        vertical-align: top;\n",
       "    }\n",
       "\n",
       "    .dataframe thead th {\n",
       "        text-align: right;\n",
       "    }\n",
       "</style>\n",
       "<table border=\"1\" class=\"dataframe\">\n",
       "  <thead>\n",
       "    <tr style=\"text-align: right;\">\n",
       "      <th></th>\n",
       "      <th>Regionname</th>\n",
       "      <th>CouncilArea</th>\n",
       "      <th>Suburb</th>\n",
       "      <th>Propertycount</th>\n",
       "      <th>Address</th>\n",
       "      <th>Postcode</th>\n",
       "      <th>Distance</th>\n",
       "      <th>Type</th>\n",
       "      <th>Rooms</th>\n",
       "      <th>Method</th>\n",
       "      <th>Date</th>\n",
       "      <th>SellerG</th>\n",
       "      <th>Price</th>\n",
       "      <th>Burbs</th>\n",
       "      <th>Regions</th>\n",
       "    </tr>\n",
       "  </thead>\n",
       "  <tbody>\n",
       "    <tr>\n",
       "      <th>0</th>\n",
       "      <td>2</td>\n",
       "      <td>32</td>\n",
       "      <td>0</td>\n",
       "      <td>4019</td>\n",
       "      <td>42390</td>\n",
       "      <td>3067</td>\n",
       "      <td>3.0</td>\n",
       "      <td>0</td>\n",
       "      <td>3</td>\n",
       "      <td>2</td>\n",
       "      <td>0</td>\n",
       "      <td>198</td>\n",
       "      <td>1490000.0</td>\n",
       "      <td>0</td>\n",
       "      <td>2</td>\n",
       "    </tr>\n",
       "    <tr>\n",
       "      <th>1</th>\n",
       "      <td>2</td>\n",
       "      <td>32</td>\n",
       "      <td>0</td>\n",
       "      <td>4019</td>\n",
       "      <td>46855</td>\n",
       "      <td>3067</td>\n",
       "      <td>3.0</td>\n",
       "      <td>0</td>\n",
       "      <td>3</td>\n",
       "      <td>2</td>\n",
       "      <td>0</td>\n",
       "      <td>255</td>\n",
       "      <td>1220000.0</td>\n",
       "      <td>0</td>\n",
       "      <td>2</td>\n",
       "    </tr>\n",
       "    <tr>\n",
       "      <th>2</th>\n",
       "      <td>2</td>\n",
       "      <td>32</td>\n",
       "      <td>0</td>\n",
       "      <td>4019</td>\n",
       "      <td>8180</td>\n",
       "      <td>3067</td>\n",
       "      <td>3.0</td>\n",
       "      <td>0</td>\n",
       "      <td>3</td>\n",
       "      <td>2</td>\n",
       "      <td>0</td>\n",
       "      <td>286</td>\n",
       "      <td>1420000.0</td>\n",
       "      <td>0</td>\n",
       "      <td>2</td>\n",
       "    </tr>\n",
       "    <tr>\n",
       "      <th>3</th>\n",
       "      <td>6</td>\n",
       "      <td>22</td>\n",
       "      <td>1</td>\n",
       "      <td>1543</td>\n",
       "      <td>50133</td>\n",
       "      <td>3040</td>\n",
       "      <td>7.5</td>\n",
       "      <td>0</td>\n",
       "      <td>3</td>\n",
       "      <td>2</td>\n",
       "      <td>0</td>\n",
       "      <td>28</td>\n",
       "      <td>1515000.0</td>\n",
       "      <td>1</td>\n",
       "      <td>6</td>\n",
       "    </tr>\n",
       "    <tr>\n",
       "      <th>4</th>\n",
       "      <td>6</td>\n",
       "      <td>22</td>\n",
       "      <td>2</td>\n",
       "      <td>3464</td>\n",
       "      <td>57182</td>\n",
       "      <td>3042</td>\n",
       "      <td>10.4</td>\n",
       "      <td>0</td>\n",
       "      <td>2</td>\n",
       "      <td>2</td>\n",
       "      <td>0</td>\n",
       "      <td>286</td>\n",
       "      <td>670000.0</td>\n",
       "      <td>2</td>\n",
       "      <td>6</td>\n",
       "    </tr>\n",
       "  </tbody>\n",
       "</table>\n",
       "</div>"
      ],
      "text/plain": [
       "   Regionname  CouncilArea  Suburb  Propertycount  Address  Postcode  \\\n",
       "0           2           32       0           4019    42390      3067   \n",
       "1           2           32       0           4019    46855      3067   \n",
       "2           2           32       0           4019     8180      3067   \n",
       "3           6           22       1           1543    50133      3040   \n",
       "4           6           22       2           3464    57182      3042   \n",
       "\n",
       "   Distance  Type  Rooms  Method  Date  SellerG      Price  Burbs  Regions  \n",
       "0       3.0     0      3       2     0      198  1490000.0      0        2  \n",
       "1       3.0     0      3       2     0      255  1220000.0      0        2  \n",
       "2       3.0     0      3       2     0      286  1420000.0      0        2  \n",
       "3       7.5     0      3       2     0       28  1515000.0      1        6  \n",
       "4      10.4     0      2       2     0      286   670000.0      2        6  "
      ]
     },
     "execution_count": 57,
     "metadata": {},
     "output_type": "execute_result"
    }
   ],
   "source": [
    "df2.head()"
   ]
  },
  {
   "cell_type": "markdown",
   "metadata": {},
   "source": [
    "## Correlations"
   ]
  },
  {
   "cell_type": "code",
   "execution_count": 58,
   "metadata": {},
   "outputs": [],
   "source": [
    "correlation_matrix = df2.corr()"
   ]
  },
  {
   "cell_type": "code",
   "execution_count": 59,
   "metadata": {},
   "outputs": [
    {
     "data": {
      "text/plain": [
       "<matplotlib.axes._subplots.AxesSubplot at 0xcca93c8>"
      ]
     },
     "execution_count": 59,
     "metadata": {},
     "output_type": "execute_result"
    },
    {
     "data": {
      "image/png": "[encoded data removed]",
      "text/plain": [
       "<Figure size 720x576 with 2 Axes>"
      ]
     },
     "metadata": {
      "needs_background": "light"
     },
     "output_type": "display_data"
    }
   ],
   "source": [
    "f, ax = plt.subplots(figsize = (10, 8))\n",
    "sns.set(font_scale = .9)\n",
    "sns.heatmap(correlation_matrix)"
   ]
  },
  {
   "cell_type": "code",
   "execution_count": 60,
   "metadata": {},
   "outputs": [
    {
     "data": {
      "text/html": [
       "<div>\n",
       "<style scoped>\n",
       "    .dataframe tbody tr th:only-of-type {\n",
       "        vertical-align: middle;\n",
       "    }\n",
       "\n",
       "    .dataframe tbody tr th {\n",
       "        vertical-align: top;\n",
       "    }\n",
       "\n",
       "    .dataframe thead th {\n",
       "        text-align: right;\n",
       "    }\n",
       "</style>\n",
       "<table border=\"1\" class=\"dataframe\">\n",
       "  <thead>\n",
       "    <tr style=\"text-align: right;\">\n",
       "      <th></th>\n",
       "      <th>Regionname</th>\n",
       "      <th>CouncilArea</th>\n",
       "      <th>Suburb</th>\n",
       "      <th>Propertycount</th>\n",
       "      <th>Address</th>\n",
       "      <th>Postcode</th>\n",
       "      <th>Distance</th>\n",
       "      <th>Type</th>\n",
       "      <th>Rooms</th>\n",
       "      <th>Method</th>\n",
       "      <th>Date</th>\n",
       "      <th>SellerG</th>\n",
       "      <th>Price</th>\n",
       "      <th>Burbs</th>\n",
       "      <th>Regions</th>\n",
       "    </tr>\n",
       "  </thead>\n",
       "  <tbody>\n",
       "    <tr>\n",
       "      <th>Regionname</th>\n",
       "      <td>1.000000</td>\n",
       "      <td>-0.132260</td>\n",
       "      <td>-0.001995</td>\n",
       "      <td>-0.111048</td>\n",
       "      <td>0.017598</td>\n",
       "      <td>-0.065437</td>\n",
       "      <td>-0.170957</td>\n",
       "      <td>0.070422</td>\n",
       "      <td>-0.071821</td>\n",
       "      <td>0.023669</td>\n",
       "      <td>-0.002115</td>\n",
       "      <td>0.026818</td>\n",
       "      <td>0.051158</td>\n",
       "      <td>-0.001995</td>\n",
       "      <td>1.000000</td>\n",
       "    </tr>\n",
       "    <tr>\n",
       "      <th>CouncilArea</th>\n",
       "      <td>-0.132260</td>\n",
       "      <td>1.000000</td>\n",
       "      <td>0.135386</td>\n",
       "      <td>0.053670</td>\n",
       "      <td>0.004504</td>\n",
       "      <td>0.042536</td>\n",
       "      <td>-0.069557</td>\n",
       "      <td>0.040753</td>\n",
       "      <td>-0.075556</td>\n",
       "      <td>-0.004723</td>\n",
       "      <td>0.003174</td>\n",
       "      <td>0.061031</td>\n",
       "      <td>-0.082928</td>\n",
       "      <td>0.135386</td>\n",
       "      <td>-0.132260</td>\n",
       "    </tr>\n",
       "    <tr>\n",
       "      <th>Suburb</th>\n",
       "      <td>-0.001995</td>\n",
       "      <td>0.135386</td>\n",
       "      <td>1.000000</td>\n",
       "      <td>0.124364</td>\n",
       "      <td>0.009415</td>\n",
       "      <td>0.003807</td>\n",
       "      <td>0.004417</td>\n",
       "      <td>0.009708</td>\n",
       "      <td>-0.039931</td>\n",
       "      <td>-0.004076</td>\n",
       "      <td>0.000216</td>\n",
       "      <td>0.030316</td>\n",
       "      <td>-0.110849</td>\n",
       "      <td>1.000000</td>\n",
       "      <td>-0.001995</td>\n",
       "    </tr>\n",
       "    <tr>\n",
       "      <th>Propertycount</th>\n",
       "      <td>-0.111048</td>\n",
       "      <td>0.053670</td>\n",
       "      <td>0.124364</td>\n",
       "      <td>1.000000</td>\n",
       "      <td>0.008802</td>\n",
       "      <td>-0.002557</td>\n",
       "      <td>0.014050</td>\n",
       "      <td>0.053696</td>\n",
       "      <td>-0.048985</td>\n",
       "      <td>-0.027043</td>\n",
       "      <td>0.002410</td>\n",
       "      <td>0.048066</td>\n",
       "      <td>-0.053670</td>\n",
       "      <td>0.124364</td>\n",
       "      <td>-0.111048</td>\n",
       "    </tr>\n",
       "    <tr>\n",
       "      <th>Address</th>\n",
       "      <td>0.017598</td>\n",
       "      <td>0.004504</td>\n",
       "      <td>0.009415</td>\n",
       "      <td>0.008802</td>\n",
       "      <td>1.000000</td>\n",
       "      <td>-0.005544</td>\n",
       "      <td>-0.024954</td>\n",
       "      <td>-0.078802</td>\n",
       "      <td>0.025685</td>\n",
       "      <td>0.003240</td>\n",
       "      <td>-0.002240</td>\n",
       "      <td>0.001565</td>\n",
       "      <td>0.036793</td>\n",
       "      <td>0.009415</td>\n",
       "      <td>0.017598</td>\n",
       "    </tr>\n",
       "    <tr>\n",
       "      <th>Postcode</th>\n",
       "      <td>-0.065437</td>\n",
       "      <td>0.042536</td>\n",
       "      <td>0.003807</td>\n",
       "      <td>-0.002557</td>\n",
       "      <td>-0.005544</td>\n",
       "      <td>1.000000</td>\n",
       "      <td>0.500263</td>\n",
       "      <td>-0.047708</td>\n",
       "      <td>0.093666</td>\n",
       "      <td>-0.010116</td>\n",
       "      <td>0.002881</td>\n",
       "      <td>-0.008030</td>\n",
       "      <td>0.002726</td>\n",
       "      <td>0.003807</td>\n",
       "      <td>-0.065437</td>\n",
       "    </tr>\n",
       "    <tr>\n",
       "      <th>Distance</th>\n",
       "      <td>-0.170957</td>\n",
       "      <td>-0.069557</td>\n",
       "      <td>0.004417</td>\n",
       "      <td>0.014050</td>\n",
       "      <td>-0.024954</td>\n",
       "      <td>0.500263</td>\n",
       "      <td>1.000000</td>\n",
       "      <td>-0.245717</td>\n",
       "      <td>0.268289</td>\n",
       "      <td>-0.047196</td>\n",
       "      <td>0.015591</td>\n",
       "      <td>-0.022199</td>\n",
       "      <td>-0.221145</td>\n",
       "      <td>0.004417</td>\n",
       "      <td>-0.170957</td>\n",
       "    </tr>\n",
       "    <tr>\n",
       "      <th>Type</th>\n",
       "      <td>0.070422</td>\n",
       "      <td>0.040753</td>\n",
       "      <td>0.009708</td>\n",
       "      <td>0.053696</td>\n",
       "      <td>-0.078802</td>\n",
       "      <td>-0.047708</td>\n",
       "      <td>-0.245717</td>\n",
       "      <td>1.000000</td>\n",
       "      <td>-0.536973</td>\n",
       "      <td>0.034174</td>\n",
       "      <td>0.000765</td>\n",
       "      <td>0.019942</td>\n",
       "      <td>-0.281702</td>\n",
       "      <td>0.009708</td>\n",
       "      <td>0.070422</td>\n",
       "    </tr>\n",
       "    <tr>\n",
       "      <th>Rooms</th>\n",
       "      <td>-0.071821</td>\n",
       "      <td>-0.075556</td>\n",
       "      <td>-0.039931</td>\n",
       "      <td>-0.048985</td>\n",
       "      <td>0.025685</td>\n",
       "      <td>0.093666</td>\n",
       "      <td>0.268289</td>\n",
       "      <td>-0.536973</td>\n",
       "      <td>1.000000</td>\n",
       "      <td>-0.031118</td>\n",
       "      <td>-0.000643</td>\n",
       "      <td>-0.037285</td>\n",
       "      <td>0.356709</td>\n",
       "      <td>-0.039931</td>\n",
       "      <td>-0.071821</td>\n",
       "    </tr>\n",
       "    <tr>\n",
       "      <th>Method</th>\n",
       "      <td>0.023669</td>\n",
       "      <td>-0.004723</td>\n",
       "      <td>-0.004076</td>\n",
       "      <td>-0.027043</td>\n",
       "      <td>0.003240</td>\n",
       "      <td>-0.010116</td>\n",
       "      <td>-0.047196</td>\n",
       "      <td>0.034174</td>\n",
       "      <td>-0.031118</td>\n",
       "      <td>1.000000</td>\n",
       "      <td>-0.001143</td>\n",
       "      <td>0.001094</td>\n",
       "      <td>0.010918</td>\n",
       "      <td>-0.004076</td>\n",
       "      <td>0.023669</td>\n",
       "    </tr>\n",
       "    <tr>\n",
       "      <th>Date</th>\n",
       "      <td>-0.002115</td>\n",
       "      <td>0.003174</td>\n",
       "      <td>0.000216</td>\n",
       "      <td>0.002410</td>\n",
       "      <td>-0.002240</td>\n",
       "      <td>0.002881</td>\n",
       "      <td>0.015591</td>\n",
       "      <td>0.000765</td>\n",
       "      <td>-0.000643</td>\n",
       "      <td>-0.001143</td>\n",
       "      <td>1.000000</td>\n",
       "      <td>-0.001940</td>\n",
       "      <td>-0.016709</td>\n",
       "      <td>0.000216</td>\n",
       "      <td>-0.002115</td>\n",
       "    </tr>\n",
       "    <tr>\n",
       "      <th>SellerG</th>\n",
       "      <td>0.026818</td>\n",
       "      <td>0.061031</td>\n",
       "      <td>0.030316</td>\n",
       "      <td>0.048066</td>\n",
       "      <td>0.001565</td>\n",
       "      <td>-0.008030</td>\n",
       "      <td>-0.022199</td>\n",
       "      <td>0.019942</td>\n",
       "      <td>-0.037285</td>\n",
       "      <td>0.001094</td>\n",
       "      <td>-0.001940</td>\n",
       "      <td>1.000000</td>\n",
       "      <td>-0.040569</td>\n",
       "      <td>0.030316</td>\n",
       "      <td>0.026818</td>\n",
       "    </tr>\n",
       "    <tr>\n",
       "      <th>Price</th>\n",
       "      <td>0.051158</td>\n",
       "      <td>-0.082928</td>\n",
       "      <td>-0.110849</td>\n",
       "      <td>-0.053670</td>\n",
       "      <td>0.036793</td>\n",
       "      <td>0.002726</td>\n",
       "      <td>-0.221145</td>\n",
       "      <td>-0.281702</td>\n",
       "      <td>0.356709</td>\n",
       "      <td>0.010918</td>\n",
       "      <td>-0.016709</td>\n",
       "      <td>-0.040569</td>\n",
       "      <td>1.000000</td>\n",
       "      <td>-0.110849</td>\n",
       "      <td>0.051158</td>\n",
       "    </tr>\n",
       "    <tr>\n",
       "      <th>Burbs</th>\n",
       "      <td>-0.001995</td>\n",
       "      <td>0.135386</td>\n",
       "      <td>1.000000</td>\n",
       "      <td>0.124364</td>\n",
       "      <td>0.009415</td>\n",
       "      <td>0.003807</td>\n",
       "      <td>0.004417</td>\n",
       "      <td>0.009708</td>\n",
       "      <td>-0.039931</td>\n",
       "      <td>-0.004076</td>\n",
       "      <td>0.000216</td>\n",
       "      <td>0.030316</td>\n",
       "      <td>-0.110849</td>\n",
       "      <td>1.000000</td>\n",
       "      <td>-0.001995</td>\n",
       "    </tr>\n",
       "    <tr>\n",
       "      <th>Regions</th>\n",
       "      <td>1.000000</td>\n",
       "      <td>-0.132260</td>\n",
       "      <td>-0.001995</td>\n",
       "      <td>-0.111048</td>\n",
       "      <td>0.017598</td>\n",
       "      <td>-0.065437</td>\n",
       "      <td>-0.170957</td>\n",
       "      <td>0.070422</td>\n",
       "      <td>-0.071821</td>\n",
       "      <td>0.023669</td>\n",
       "      <td>-0.002115</td>\n",
       "      <td>0.026818</td>\n",
       "      <td>0.051158</td>\n",
       "      <td>-0.001995</td>\n",
       "      <td>1.000000</td>\n",
       "    </tr>\n",
       "  </tbody>\n",
       "</table>\n",
       "</div>"
      ],
      "text/plain": [
       "               Regionname  CouncilArea    Suburb  Propertycount   Address  \\\n",
       "Regionname       1.000000    -0.132260 -0.001995      -0.111048  0.017598   \n",
       "CouncilArea     -0.132260     1.000000  0.135386       0.053670  0.004504   \n",
       "Suburb          -0.001995     0.135386  1.000000       0.124364  0.009415   \n",
       "Propertycount   -0.111048     0.053670  0.124364       1.000000  0.008802   \n",
       "Address          0.017598     0.004504  0.009415       0.008802  1.000000   \n",
       "Postcode        -0.065437     0.042536  0.003807      -0.002557 -0.005544   \n",
       "Distance        -0.170957    -0.069557  0.004417       0.014050 -0.024954   \n",
       "Type             0.070422     0.040753  0.009708       0.053696 -0.078802   \n",
       "Rooms           -0.071821    -0.075556 -0.039931      -0.048985  0.025685   \n",
       "Method           0.023669    -0.004723 -0.004076      -0.027043  0.003240   \n",
       "Date            -0.002115     0.003174  0.000216       0.002410 -0.002240   \n",
       "SellerG          0.026818     0.061031  0.030316       0.048066  0.001565   \n",
       "Price            0.051158    -0.082928 -0.110849      -0.053670  0.036793   \n",
       "Burbs           -0.001995     0.135386  1.000000       0.124364  0.009415   \n",
       "Regions          1.000000    -0.132260 -0.001995      -0.111048  0.017598   \n",
       "\n",
       "               Postcode  Distance      Type     Rooms    Method      Date  \\\n",
       "Regionname    -0.065437 -0.170957  0.070422 -0.071821  0.023669 -0.002115   \n",
       "CouncilArea    0.042536 -0.069557  0.040753 -0.075556 -0.004723  0.003174   \n",
       "Suburb         0.003807  0.004417  0.009708 -0.039931 -0.004076  0.000216   \n",
       "Propertycount -0.002557  0.014050  0.053696 -0.048985 -0.027043  0.002410   \n",
       "Address       -0.005544 -0.024954 -0.078802  0.025685  0.003240 -0.002240   \n",
       "Postcode       1.000000  0.500263 -0.047708  0.093666 -0.010116  0.002881   \n",
       "Distance       0.500263  1.000000 -0.245717  0.268289 -0.047196  0.015591   \n",
       "Type          -0.047708 -0.245717  1.000000 -0.536973  0.034174  0.000765   \n",
       "Rooms          0.093666  0.268289 -0.536973  1.000000 -0.031118 -0.000643   \n",
       "Method        -0.010116 -0.047196  0.034174 -0.031118  1.000000 -0.001143   \n",
       "Date           0.002881  0.015591  0.000765 -0.000643 -0.001143  1.000000   \n",
       "SellerG       -0.008030 -0.022199  0.019942 -0.037285  0.001094 -0.001940   \n",
       "Price          0.002726 -0.221145 -0.281702  0.356709  0.010918 -0.016709   \n",
       "Burbs          0.003807  0.004417  0.009708 -0.039931 -0.004076  0.000216   \n",
       "Regions       -0.065437 -0.170957  0.070422 -0.071821  0.023669 -0.002115   \n",
       "\n",
       "                SellerG     Price     Burbs   Regions  \n",
       "Regionname     0.026818  0.051158 -0.001995  1.000000  \n",
       "CouncilArea    0.061031 -0.082928  0.135386 -0.132260  \n",
       "Suburb         0.030316 -0.110849  1.000000 -0.001995  \n",
       "Propertycount  0.048066 -0.053670  0.124364 -0.111048  \n",
       "Address        0.001565  0.036793  0.009415  0.017598  \n",
       "Postcode      -0.008030  0.002726  0.003807 -0.065437  \n",
       "Distance      -0.022199 -0.221145  0.004417 -0.170957  \n",
       "Type           0.019942 -0.281702  0.009708  0.070422  \n",
       "Rooms         -0.037285  0.356709 -0.039931 -0.071821  \n",
       "Method         0.001094  0.010918 -0.004076  0.023669  \n",
       "Date          -0.001940 -0.016709  0.000216 -0.002115  \n",
       "SellerG        1.000000 -0.040569  0.030316  0.026818  \n",
       "Price         -0.040569  1.000000 -0.110849  0.051158  \n",
       "Burbs          0.030316 -0.110849  1.000000 -0.001995  \n",
       "Regions        0.026818  0.051158 -0.001995  1.000000  "
      ]
     },
     "execution_count": 60,
     "metadata": {},
     "output_type": "execute_result"
    }
   ],
   "source": [
    "correlation_matrix"
   ]
  },
  {
   "cell_type": "code",
   "execution_count": 61,
   "metadata": {},
   "outputs": [
    {
     "data": {
      "text/plain": [
       "Price            1.000000\n",
       "Rooms            0.356709\n",
       "Regions          0.051158\n",
       "Regionname       0.051158\n",
       "Address          0.036793\n",
       "Method           0.010918\n",
       "Postcode         0.002726\n",
       "Date            -0.016709\n",
       "SellerG         -0.040569\n",
       "Propertycount   -0.053670\n",
       "CouncilArea     -0.082928\n",
       "Burbs           -0.110849\n",
       "Suburb          -0.110849\n",
       "Distance        -0.221145\n",
       "Type            -0.281702\n",
       "Name: Price, dtype: float64"
      ]
     },
     "execution_count": 61,
     "metadata": {},
     "output_type": "execute_result"
    }
   ],
   "source": [
    "correlation_matrix['Price'].sort_values(ascending = False)"
   ]
  },
  {
   "cell_type": "markdown",
   "metadata": {},
   "source": [
    "### Model Implementation"
   ]
  },
  {
   "cell_type": "code",
   "execution_count": 62,
   "metadata": {},
   "outputs": [],
   "source": [
    "X = df2[['Regions', 'Distance', 'Rooms', 'Burbs']]\n",
    "\n",
    "y = df2['Price']"
   ]
  },
  {
   "cell_type": "code",
   "execution_count": 63,
   "metadata": {},
   "outputs": [],
   "source": [
    "X_train, X_test, y_train, y_test = train_test_split(X, y, test_size=0.3, random_state=42)"
   ]
  },
  {
   "cell_type": "code",
   "execution_count": 64,
   "metadata": {},
   "outputs": [],
   "source": [
    "def linear_model_fit_predict(X_train, X_test, y_train, y_test, scaler = None):\n",
    "    \n",
    "    if scaler is None:\n",
    "        model = LinearRegression()\n",
    "        model.fit(X_train, y_train)\n",
    "        y_prediction = model.predict(X_test)\n",
    "        \n",
    "        print('MAE score: ', mean_squared_error(y_test, y_prediction))\n",
    "        \n",
    "    else:\n",
    "        \n",
    "        train_scaled = scaler.fit_transform(X_train)\n",
    "        test_scaled = scaler.transform(X_test)\n",
    "        model = LinearRegression()\n",
    "        model.fit(X_train, y_train)\n",
    "        y_prediction = model.predict(X_test)\n",
    "        \n",
    "        print('MAE score: ', mean_squared_error(y_test, y_prediction))"
   ]
  },
  {
   "cell_type": "code",
   "execution_count": 65,
   "metadata": {},
   "outputs": [
    {
     "name": "stdout",
     "output_type": "stream",
     "text": [
      "MAE score:  206047101428.35315\n"
     ]
    }
   ],
   "source": [
    "linear_model_fit_predict(X_train, X_test, y_train, y_test)"
   ]
  },
  {
   "cell_type": "code",
   "execution_count": 66,
   "metadata": {},
   "outputs": [],
   "source": [
    "linear_model = LinearRegression()\n",
    "linear_model.fit(X_train, y_train)\n",
    "y_prediction = linear_model.predict(X_test)"
   ]
  },
  {
   "cell_type": "code",
   "execution_count": 67,
   "metadata": {},
   "outputs": [],
   "source": [
    "def r2_performance(y, predicted_y_value):\n",
    "    \n",
    "    score = r2_score(y, predicted_y_value)\n",
    "    print(score)\n",
    "    \n",
    "    \n",
    "    \n",
    "def model_evaluation(y, predicted_y_value):\n",
    "    \n",
    "    mean_ab = mean_absolute_error(y, predicted_y_value)\n",
    "    mean_sqr = mean_squared_error(y, predicted_y_value)\n",
    "    root_mean = np.sqrt(mean_squared_error(y, predicted_y_value))\n",
    "    \n",
    "    print('The mean absolute error value is {}'.format(mean_ab))\n",
    "    print('\\n')\n",
    "    print('The mean squared error value is {}'.format(mean_sqr))\n",
    "    print('\\n')\n",
    "    print('The root mean squared error is {}'.format(root_mean))"
   ]
  },
  {
   "cell_type": "code",
   "execution_count": 68,
   "metadata": {},
   "outputs": [
    {
     "name": "stdout",
     "output_type": "stream",
     "text": [
      "0.23045731729928975\n"
     ]
    }
   ],
   "source": [
    "r2_performance(y_test, y_prediction)"
   ]
  },
  {
   "cell_type": "code",
   "execution_count": 69,
   "metadata": {},
   "outputs": [
    {
     "name": "stdout",
     "output_type": "stream",
     "text": [
      "The mean absolute error value is 303502.44105990237\n",
      "\n",
      "\n",
      "The mean squared error value is 206047101428.35315\n",
      "\n",
      "\n",
      "The root mean squared error is 453924.1141736724\n"
     ]
    }
   ],
   "source": [
    "model_evaluation(y_test, y_prediction)"
   ]
  },
  {
   "cell_type": "code",
   "execution_count": 70,
   "metadata": {},
   "outputs": [
    {
     "data": {
      "text/plain": [
       "Text(0.5,1,'Prices vs Predicted Prices')"
      ]
     },
     "execution_count": 70,
     "metadata": {},
     "output_type": "execute_result"
    },
    {
     "data": {
      "image/png": "[encoded data removed]",
      "text/plain": [
       "<Figure size 432x288 with 1 Axes>"
      ]
     },
     "metadata": {},
     "output_type": "display_data"
    }
   ],
   "source": [
    "plt.scatter(y_test, y_prediction)\n",
    "plt.xlabel('Target Housing Prices')\n",
    "plt.ylabel('Model Predicted Prices')\n",
    "plt.title(\"Prices vs Predicted Prices\")"
   ]
  },
  {
   "cell_type": "code",
   "execution_count": 71,
   "metadata": {},
   "outputs": [],
   "source": [
    "def model_train_test_score(model):\n",
    "    \n",
    "    model_train = model.score(X_train, y_train)\n",
    "    model_test = model.score(X_test, y_test)\n",
    "    \n",
    "    print('Training set score: {:.2f}'.format(model_train))\n",
    "    print('Test set score: {:.2f}'.format(model_test))"
   ]
  },
  {
   "cell_type": "code",
   "execution_count": 72,
   "metadata": {},
   "outputs": [
    {
     "name": "stdout",
     "output_type": "stream",
     "text": [
      "Training set score: 0.25\n",
      "Test set score: 0.23\n"
     ]
    }
   ],
   "source": [
    "model_train_test_score(linear_model)"
   ]
  },
  {
   "cell_type": "markdown",
   "metadata": {},
   "source": [
    "### Random Forest Regression"
   ]
  },
  {
   "cell_type": "code",
   "execution_count": 73,
   "metadata": {},
   "outputs": [],
   "source": [
    "forest_regressor = RandomForestRegressor()"
   ]
  },
  {
   "cell_type": "code",
   "execution_count": 74,
   "metadata": {},
   "outputs": [
    {
     "data": {
      "text/plain": [
       "RandomForestRegressor(bootstrap=True, criterion='mse', max_depth=None,\n",
       "           max_features='auto', max_leaf_nodes=None,\n",
       "           min_impurity_decrease=0.0, min_impurity_split=None,\n",
       "           min_samples_leaf=1, min_samples_split=2,\n",
       "           min_weight_fraction_leaf=0.0, n_estimators=10, n_jobs=1,\n",
       "           oob_score=False, random_state=None, verbose=0, warm_start=False)"
      ]
     },
     "execution_count": 74,
     "metadata": {},
     "output_type": "execute_result"
    }
   ],
   "source": [
    "forest_regressor.fit(X_train, y_train)"
   ]
  },
  {
   "cell_type": "code",
   "execution_count": 75,
   "metadata": {},
   "outputs": [
    {
     "name": "stdout",
     "output_type": "stream",
     "text": [
      "Training set score: 0.50\n",
      "Test set score: 0.45\n"
     ]
    }
   ],
   "source": [
    "model_train_test_score(forest_regressor)"
   ]
  },
  {
   "cell_type": "code",
   "execution_count": 76,
   "metadata": {},
   "outputs": [],
   "source": [
    "forest_prediction = forest_regressor.predict(X_test)"
   ]
  },
  {
   "cell_type": "code",
   "execution_count": 77,
   "metadata": {},
   "outputs": [
    {
     "name": "stdout",
     "output_type": "stream",
     "text": [
      "0.4513658998320076\n"
     ]
    }
   ],
   "source": [
    "r2_performance(y_test, forest_prediction)"
   ]
  },
  {
   "cell_type": "code",
   "execution_count": 78,
   "metadata": {},
   "outputs": [
    {
     "name": "stdout",
     "output_type": "stream",
     "text": [
      "The mean absolute error value is 245565.37516211602\n",
      "\n",
      "\n",
      "The mean squared error value is 146898240507.77536\n",
      "\n",
      "\n",
      "The root mean squared error is 383273.0625908575\n"
     ]
    }
   ],
   "source": [
    "model_evaluation(y_test, forest_prediction)"
   ]
  },
  {
   "cell_type": "code",
   "execution_count": 79,
   "metadata": {},
   "outputs": [
    {
     "data": {
      "text/plain": [
       "Text(0.5,1,'Randoem Forest Regression: Prices vs Predicted Prices')"
      ]
     },
     "execution_count": 79,
     "metadata": {},
     "output_type": "execute_result"
    },
    {
     "data": {
      "image/png": "[encoded data removed]",
      "text/plain": [
       "<Figure size 432x288 with 1 Axes>"
      ]
     },
     "metadata": {},
     "output_type": "display_data"
    }
   ],
   "source": [
    "plt.scatter(y_test, forest_prediction)\n",
    "plt.xlabel('Target Housing Prices')\n",
    "plt.ylabel('Model Predicted Prices')\n",
    "plt.title(\"Randoem Forest Regression: Prices vs Predicted Prices\")"
   ]
  },
  {
   "cell_type": "markdown",
   "metadata": {},
   "source": [
    "### Gradient Boosting Regression"
   ]
  },
  {
   "cell_type": "code",
   "execution_count": 80,
   "metadata": {},
   "outputs": [],
   "source": [
    "gradient = GradientBoostingRegressor()"
   ]
  },
  {
   "cell_type": "code",
   "execution_count": 81,
   "metadata": {},
   "outputs": [
    {
     "data": {
      "text/plain": [
       "GradientBoostingRegressor(alpha=0.9, criterion='friedman_mse', init=None,\n",
       "             learning_rate=0.1, loss='ls', max_depth=3, max_features=None,\n",
       "             max_leaf_nodes=None, min_impurity_decrease=0.0,\n",
       "             min_impurity_split=None, min_samples_leaf=1,\n",
       "             min_samples_split=2, min_weight_fraction_leaf=0.0,\n",
       "             n_estimators=100, presort='auto', random_state=None,\n",
       "             subsample=1.0, verbose=0, warm_start=False)"
      ]
     },
     "execution_count": 81,
     "metadata": {},
     "output_type": "execute_result"
    }
   ],
   "source": [
    "gradient.fit(X_train, y_train)"
   ]
  },
  {
   "cell_type": "code",
   "execution_count": 82,
   "metadata": {},
   "outputs": [
    {
     "name": "stdout",
     "output_type": "stream",
     "text": [
      "Training set score: 0.44\n",
      "Test set score: 0.43\n"
     ]
    }
   ],
   "source": [
    "model_train_test_score(gradient)"
   ]
  },
  {
   "cell_type": "code",
   "execution_count": 83,
   "metadata": {},
   "outputs": [],
   "source": [
    "gradient_prediction = gradient.predict(X_test)"
   ]
  },
  {
   "cell_type": "code",
   "execution_count": 84,
   "metadata": {},
   "outputs": [
    {
     "name": "stdout",
     "output_type": "stream",
     "text": [
      "The mean absolute error value is 255377.3784569617\n",
      "\n",
      "\n",
      "The mean squared error value is 153606522369.12265\n",
      "\n",
      "\n",
      "The root mean squared error is 391926.67983836296\n"
     ]
    }
   ],
   "source": [
    "model_evaluation(y_test, gradient_prediction)"
   ]
  },
  {
   "cell_type": "code",
   "execution_count": 85,
   "metadata": {},
   "outputs": [
    {
     "name": "stdout",
     "output_type": "stream",
     "text": [
      "0.4263118748828202\n"
     ]
    }
   ],
   "source": [
    "r2_performance(y_test, gradient_prediction)"
   ]
  },
  {
   "cell_type": "code",
   "execution_count": 86,
   "metadata": {},
   "outputs": [
    {
     "data": {
      "text/plain": [
       "Text(0.5,1,'Gradient Boosting Model: Prices vs Predicted Prices')"
      ]
     },
     "execution_count": 86,
     "metadata": {},
     "output_type": "execute_result"
    },
    {
     "data": {
      "image/png": "[encoded data removed]",
      "text/plain": [
       "<Figure size 432x288 with 1 Axes>"
      ]
     },
     "metadata": {},
     "output_type": "display_data"
    }
   ],
   "source": [
    "plt.scatter(y_test, gradient_prediction)\n",
    "plt.xlabel('Target Housing Prices')\n",
    "plt.ylabel('Model Predicted Prices')\n",
    "plt.title(\"Gradient Boosting Model: Prices vs Predicted Prices\")"
   ]
  },
  {
   "cell_type": "markdown",
   "metadata": {},
   "source": [
    "### K Nearest Neighbor"
   ]
  },
  {
   "cell_type": "code",
   "execution_count": 87,
   "metadata": {},
   "outputs": [],
   "source": [
    "knn = KNeighborsRegressor(n_neighbors= 10)"
   ]
  },
  {
   "cell_type": "code",
   "execution_count": 88,
   "metadata": {},
   "outputs": [
    {
     "data": {
      "text/plain": [
       "KNeighborsRegressor(algorithm='auto', leaf_size=30, metric='minkowski',\n",
       "          metric_params=None, n_jobs=1, n_neighbors=10, p=2,\n",
       "          weights='uniform')"
      ]
     },
     "execution_count": 88,
     "metadata": {},
     "output_type": "execute_result"
    }
   ],
   "source": [
    "knn.fit(X_train, y_train)"
   ]
  },
  {
   "cell_type": "code",
   "execution_count": 89,
   "metadata": {},
   "outputs": [],
   "source": [
    "neighbors_prediction = knn.predict(X_test)"
   ]
  },
  {
   "cell_type": "code",
   "execution_count": 90,
   "metadata": {},
   "outputs": [
    {
     "name": "stdout",
     "output_type": "stream",
     "text": [
      "Training set score: 0.45\n",
      "Test set score: 0.42\n"
     ]
    }
   ],
   "source": [
    "model_train_test_score(knn)"
   ]
  },
  {
   "cell_type": "code",
   "execution_count": 91,
   "metadata": {},
   "outputs": [
    {
     "name": "stdout",
     "output_type": "stream",
     "text": [
      "The mean absolute error value is 250798.77040758685\n",
      "\n",
      "\n",
      "The mean squared error value is 154017706468.95602\n",
      "\n",
      "\n",
      "The root mean squared error is 392450.8968889688\n"
     ]
    }
   ],
   "source": [
    "model_evaluation(y_test, neighbors_prediction)"
   ]
  },
  {
   "cell_type": "code",
   "execution_count": 92,
   "metadata": {},
   "outputs": [
    {
     "name": "stdout",
     "output_type": "stream",
     "text": [
      "0.42477618856121635\n"
     ]
    }
   ],
   "source": [
    "r2_performance(y_test, neighbors_prediction)"
   ]
  },
  {
   "cell_type": "code",
   "execution_count": 93,
   "metadata": {},
   "outputs": [
    {
     "data": {
      "text/plain": [
       "Text(0.5,1,'Gradient Boosting Model: Prices vs Predicted Prices')"
      ]
     },
     "execution_count": 93,
     "metadata": {},
     "output_type": "execute_result"
    },
    {
     "data": {
      "image/png": "[encoded data removed]",
      "text/plain": [
       "<Figure size 432x288 with 1 Axes>"
      ]
     },
     "metadata": {},
     "output_type": "display_data"
    }
   ],
   "source": [
    "plt.scatter(y_test, neighbors_prediction)\n",
    "plt.xlabel('Target Housing Prices')\n",
    "plt.ylabel('Model Predicted Prices')\n",
    "plt.title(\"Gradient Boosting Model: Prices vs Predicted Prices\")"
   ]
  },
  {
   "cell_type": "markdown",
   "metadata": {},
   "source": [
    "### Plotting R2 and Root Mean Squared Error"
   ]
  },
  {
   "cell_type": "code",
   "execution_count": 94,
   "metadata": {},
   "outputs": [],
   "source": [
    "neighbors_r2 = metrics.r2_score(y_test, neighbors_prediction)\n",
    "linear_model_r2 = metrics.r2_score(y_test, y_prediction)\n",
    "forest_r2 = metrics.r2_score(y_test, forest_prediction)\n",
    "gradient_r2 = metrics.r2_score(y_test, gradient_prediction)"
   ]
  },
  {
   "cell_type": "code",
   "execution_count": 95,
   "metadata": {},
   "outputs": [],
   "source": [
    "neighbors_root = np.sqrt(metrics.mean_squared_error(y_test, neighbors_prediction))\n",
    "linear_root = np.sqrt(metrics.mean_squared_error(y_test, y_prediction))\n",
    "forest_root = np.sqrt(metrics.mean_squared_error(y_test, forest_prediction))\n",
    "gradient_root = np.sqrt(metrics.mean_squared_error(y_test, gradient_prediction))"
   ]
  },
  {
   "cell_type": "code",
   "execution_count": 96,
   "metadata": {},
   "outputs": [],
   "source": [
    "metric_table = pd.DataFrame(data= [[linear_model_r2, linear_root], [forest_r2, forest_root], [gradient_r2, gradient_root], [neighbors_r2, neighbors_root]], \n",
    "                            index = ['Linear Regression', 'Random Forest Regression', 'Gradient Regressor', 'K Nearest Neighbor'], columns = ['R2_score', 'Root Mean Squared Error']).round(2)"
   ]
  },
  {
   "cell_type": "code",
   "execution_count": 97,
   "metadata": {},
   "outputs": [
    {
     "data": {
      "text/html": [
       "<div>\n",
       "<style scoped>\n",
       "    .dataframe tbody tr th:only-of-type {\n",
       "        vertical-align: middle;\n",
       "    }\n",
       "\n",
       "    .dataframe tbody tr th {\n",
       "        vertical-align: top;\n",
       "    }\n",
       "\n",
       "    .dataframe thead th {\n",
       "        text-align: right;\n",
       "    }\n",
       "</style>\n",
       "<table border=\"1\" class=\"dataframe\">\n",
       "  <thead>\n",
       "    <tr style=\"text-align: right;\">\n",
       "      <th></th>\n",
       "      <th>R2_score</th>\n",
       "      <th>Root Mean Squared Error</th>\n",
       "    </tr>\n",
       "  </thead>\n",
       "  <tbody>\n",
       "    <tr>\n",
       "      <th>Linear Regression</th>\n",
       "      <td>0.23</td>\n",
       "      <td>453924.11</td>\n",
       "    </tr>\n",
       "    <tr>\n",
       "      <th>Random Forest Regression</th>\n",
       "      <td>0.45</td>\n",
       "      <td>383273.06</td>\n",
       "    </tr>\n",
       "    <tr>\n",
       "      <th>Gradient Regressor</th>\n",
       "      <td>0.43</td>\n",
       "      <td>391926.68</td>\n",
       "    </tr>\n",
       "    <tr>\n",
       "      <th>K Nearest Neighbor</th>\n",
       "      <td>0.42</td>\n",
       "      <td>392450.90</td>\n",
       "    </tr>\n",
       "  </tbody>\n",
       "</table>\n",
       "</div>"
      ],
      "text/plain": [
       "                          R2_score  Root Mean Squared Error\n",
       "Linear Regression             0.23                453924.11\n",
       "Random Forest Regression      0.45                383273.06\n",
       "Gradient Regressor            0.43                391926.68\n",
       "K Nearest Neighbor            0.42                392450.90"
      ]
     },
     "execution_count": 97,
     "metadata": {},
     "output_type": "execute_result"
    }
   ],
   "source": [
    "metric_table"
   ]
  },
  {
   "cell_type": "code",
   "execution_count": 98,
   "metadata": {},
   "outputs": [
    {
     "data": {
      "image/png": "[encoded data removed]",
      "text/plain": [
       "<Figure size 576x576 with 2 Axes>"
      ]
     },
     "metadata": {},
     "output_type": "display_data"
    }
   ],
   "source": [
    "plt.figure(figsize=(8,8))\n",
    "plt.subplot(1,2,1)\n",
    "sns.pointplot(metric_table.index, metric_table['R2_score'],color='red',)\n",
    "plt.xticks(rotation=70)\n",
    "plt.xlabel(\"Model\").set_size(20)\n",
    "plt.ylabel(\"R2 Score\").set_size(20)\n",
    "plt.title(\"R2 Score Comparison\").set_size(20)\n",
    "plt.subplot(1,2,2)\n",
    "sns.pointplot(metric_table.index, metric_table['Root Mean Squared Error'])\n",
    "plt.xticks(rotation=70)\n",
    "plt.xlabel(\"Model\").set_size(20)\n",
    "plt.ylabel(\"RMSE Score\").set_size(20)\n",
    "plt.title(\"RMSE Comparison\").set_size(20)\n",
    "plt.tight_layout()"
   ]
  },
  {
   "cell_type": "markdown",
   "metadata": {},
   "source": [
    "### To Be Continued\n",
    "\n",
    "* Need to optimize performance "
   ]
  },
  {
   "cell_type": "code",
   "execution_count": null,
   "metadata": {},
   "outputs": [],
   "source": []
  }
 ],
 "metadata": {
  "kernelspec": {
   "display_name": "Python 3",
   "language": "python",
   "name": "python3"
  },
  "language_info": {
   "codemirror_mode": {
    "name": "ipython",
    "version": 3
   },
   "file_extension": ".py",
   "mimetype": "text/x-python",
   "name": "python",
   "nbconvert_exporter": "python",
   "pygments_lexer": "ipython3",
   "version": "3.7.0"
  }
 },
 "nbformat": 4,
 "nbformat_minor": 2
}
